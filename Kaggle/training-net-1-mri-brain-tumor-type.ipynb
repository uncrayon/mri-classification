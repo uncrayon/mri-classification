{
 "cells": [
  {
   "cell_type": "code",
   "execution_count": 1,
   "metadata": {
    "execution": {
     "iopub.execute_input": "2021-02-12T09:05:13.647157Z",
     "iopub.status.busy": "2021-02-12T09:05:13.646288Z",
     "iopub.status.idle": "2021-02-12T09:05:14.846569Z",
     "shell.execute_reply": "2021-02-12T09:05:14.845276Z"
    },
    "papermill": {
     "duration": 1.245784,
     "end_time": "2021-02-12T09:05:14.846831",
     "exception": false,
     "start_time": "2021-02-12T09:05:13.601047",
     "status": "completed"
    },
    "tags": []
   },
   "outputs": [],
   "source": [
    "import sys \n",
    "import io\n",
    "import os\n",
    "import cv2\n",
    "import itertools\n",
    "import collections\n",
    "from sklearn.utils import shuffle \n",
    "from sklearn.preprocessing import LabelEncoder\n",
    "from sklearn.model_selection import train_test_split\n",
    "from sklearn.metrics import confusion_matrix,classification_report\n",
    "from mlxtend.plotting import plot_confusion_matrix"
   ]
  },
  {
   "cell_type": "code",
   "execution_count": 2,
   "metadata": {
    "execution": {
     "iopub.execute_input": "2021-02-12T09:05:14.926097Z",
     "iopub.status.busy": "2021-02-12T09:05:14.925295Z",
     "iopub.status.idle": "2021-02-12T09:05:15.077349Z",
     "shell.execute_reply": "2021-02-12T09:05:15.076616Z"
    },
    "papermill": {
     "duration": 0.193437,
     "end_time": "2021-02-12T09:05:15.077509",
     "exception": false,
     "start_time": "2021-02-12T09:05:14.884072",
     "status": "completed"
    },
    "tags": []
   },
   "outputs": [],
   "source": [
    "import matplotlib.pyplot as plt\n",
    "import seaborn as sbn\n",
    "import pandas as pd\n",
    "import numpy as np\n",
    "import random"
   ]
  },
  {
   "cell_type": "code",
   "execution_count": 3,
   "metadata": {
    "execution": {
     "iopub.execute_input": "2021-02-12T09:05:15.158918Z",
     "iopub.status.busy": "2021-02-12T09:05:15.158019Z",
     "iopub.status.idle": "2021-02-12T09:05:20.727528Z",
     "shell.execute_reply": "2021-02-12T09:05:20.726018Z"
    },
    "papermill": {
     "duration": 5.61081,
     "end_time": "2021-02-12T09:05:20.727711",
     "exception": false,
     "start_time": "2021-02-12T09:05:15.116901",
     "status": "completed"
    },
    "tags": []
   },
   "outputs": [],
   "source": [
    "from tensorflow.keras.preprocessing import image_dataset_from_directory\n",
    "import tensorflow.keras.layers as layers\n",
    "import tensorflow.keras as keras\n",
    "import tensorflow as tf"
   ]
  },
  {
   "cell_type": "code",
   "execution_count": 4,
   "metadata": {
    "execution": {
     "iopub.execute_input": "2021-02-12T09:05:20.805353Z",
     "iopub.status.busy": "2021-02-12T09:05:20.804500Z",
     "iopub.status.idle": "2021-02-12T09:05:20.807118Z",
     "shell.execute_reply": "2021-02-12T09:05:20.807654Z"
    },
    "papermill": {
     "duration": 0.043325,
     "end_time": "2021-02-12T09:05:20.807837",
     "exception": false,
     "start_time": "2021-02-12T09:05:20.764512",
     "status": "completed"
    },
    "tags": []
   },
   "outputs": [],
   "source": [
    "plt.style.use('seaborn-darkgrid')"
   ]
  },
  {
   "cell_type": "markdown",
   "metadata": {
    "papermill": {
     "duration": 0.037636,
     "end_time": "2021-02-12T09:05:20.881671",
     "exception": false,
     "start_time": "2021-02-12T09:05:20.844035",
     "status": "completed"
    },
    "tags": []
   },
   "source": [
    "# Aproximación con fuerza Bruta \n",
    "## Stacking CNN Layers"
   ]
  },
  {
   "cell_type": "markdown",
   "metadata": {
    "papermill": {
     "duration": 0.035684,
     "end_time": "2021-02-12T09:05:20.955009",
     "exception": false,
     "start_time": "2021-02-12T09:05:20.919325",
     "status": "completed"
    },
    "tags": []
   },
   "source": [
    "Ahora, vamos a desarrollar un modelo de CNNs para realizar una clasificación multiclase exploratoria ¿Qué dificultades tendrémos en obtener un modelo con un buen accurracy? ¿Qué tan grande deberá de ser la red. "
   ]
  },
  {
   "cell_type": "code",
   "execution_count": 5,
   "metadata": {
    "execution": {
     "iopub.execute_input": "2021-02-12T09:05:21.034545Z",
     "iopub.status.busy": "2021-02-12T09:05:21.033708Z",
     "iopub.status.idle": "2021-02-12T09:05:21.036780Z",
     "shell.execute_reply": "2021-02-12T09:05:21.036271Z"
    },
    "papermill": {
     "duration": 0.045599,
     "end_time": "2021-02-12T09:05:21.036918",
     "exception": false,
     "start_time": "2021-02-12T09:05:20.991319",
     "status": "completed"
    },
    "tags": []
   },
   "outputs": [],
   "source": [
    "def set_seed(seed=42):\n",
    "    \"\"\"\n",
    "    Esta función la seteamos para poder asegurar la reproducibilidad de nuestros\n",
    "    resultados al futuro\n",
    "    \n",
    "    Seed es 42 porque es la respuesta a la última pregunta de la vida, el universo,\n",
    "    y todo lo demás.\n",
    "    \"\"\"\n",
    "    np.random.seed(seed)\n",
    "    tf.random.set_seed(seed)\n",
    "    os.environ['PYTHONHASHSEED'] = str(seed)\n",
    "    os.environ['TF_DETERMINISTIC_OPS'] = '1'\n",
    "set_seed()"
   ]
  },
  {
   "cell_type": "code",
   "execution_count": 6,
   "metadata": {
    "execution": {
     "iopub.execute_input": "2021-02-12T09:05:21.115849Z",
     "iopub.status.busy": "2021-02-12T09:05:21.114888Z",
     "iopub.status.idle": "2021-02-12T09:05:21.118005Z",
     "shell.execute_reply": "2021-02-12T09:05:21.117438Z"
    },
    "papermill": {
     "duration": 0.043787,
     "end_time": "2021-02-12T09:05:21.118147",
     "exception": false,
     "start_time": "2021-02-12T09:05:21.074360",
     "status": "completed"
    },
    "tags": []
   },
   "outputs": [],
   "source": [
    "# Definimos un MAINFOLDER \n",
    "#Este es nuestro directorio Training \n",
    "MAINFOLDER = '../input/brain-tumor-classification-mri/Training' #Así se accede en Kaggle\n",
    "#MAINFOLDER = '../data/brain_MRI_Sartaj/Training/'  #Así accedemos en un locar con clon del repo\n",
    "\n",
    "IMG_SIZE = 256"
   ]
  },
  {
   "cell_type": "code",
   "execution_count": 7,
   "metadata": {
    "execution": {
     "iopub.execute_input": "2021-02-12T09:05:21.200071Z",
     "iopub.status.busy": "2021-02-12T09:05:21.199382Z",
     "iopub.status.idle": "2021-02-12T09:05:24.905060Z",
     "shell.execute_reply": "2021-02-12T09:05:24.904441Z"
    },
    "papermill": {
     "duration": 3.749642,
     "end_time": "2021-02-12T09:05:24.905240",
     "exception": false,
     "start_time": "2021-02-12T09:05:21.155598",
     "status": "completed"
    },
    "tags": []
   },
   "outputs": [
    {
     "name": "stdout",
     "output_type": "stream",
     "text": [
      "Found 2870 files belonging to 4 classes.\n"
     ]
    }
   ],
   "source": [
    "# Aquí cargamos todas las imágenes de entrenamiento\n",
    "ds_train_ = image_dataset_from_directory(\n",
    "    MAINFOLDER,\n",
    "    labels='inferred',\n",
    "    label_mode='categorical',\n",
    "    image_size=[IMG_SIZE, IMG_SIZE],\n",
    "    interpolation='nearest',\n",
    "    batch_size=64,\n",
    "    shuffle=True,\n",
    "    #color_mode=\"grayscale\"\n",
    "    color_mode=\"rgb\"\n",
    ")"
   ]
  },
  {
   "cell_type": "code",
   "execution_count": 8,
   "metadata": {
    "execution": {
     "iopub.execute_input": "2021-02-12T09:05:24.989027Z",
     "iopub.status.busy": "2021-02-12T09:05:24.988281Z",
     "iopub.status.idle": "2021-02-12T09:05:25.116873Z",
     "shell.execute_reply": "2021-02-12T09:05:25.117562Z"
    },
    "papermill": {
     "duration": 0.173946,
     "end_time": "2021-02-12T09:05:25.117821",
     "exception": false,
     "start_time": "2021-02-12T09:05:24.943875",
     "status": "completed"
    },
    "tags": []
   },
   "outputs": [
    {
     "name": "stdout",
     "output_type": "stream",
     "text": [
      "Found 394 files belonging to 4 classes.\n"
     ]
    }
   ],
   "source": [
    "#Acá cargamos todas las imágenes de prueba\n",
    "ds_valid_ = image_dataset_from_directory(\n",
    "    MAINFOLDER.replace('Training','Testing'),\n",
    "    labels='inferred',\n",
    "    label_mode='categorical',\n",
    "    image_size=[IMG_SIZE, IMG_SIZE],\n",
    "    interpolation='nearest',\n",
    "    batch_size=64,\n",
    "    shuffle=False,\n",
    "    #color_mode=\"grayscale\"\n",
    "    color_mode=\"rgb\"\n",
    ")"
   ]
  },
  {
   "cell_type": "code",
   "execution_count": 9,
   "metadata": {
    "execution": {
     "iopub.execute_input": "2021-02-12T09:05:25.207351Z",
     "iopub.status.busy": "2021-02-12T09:05:25.206344Z",
     "iopub.status.idle": "2021-02-12T09:05:25.270705Z",
     "shell.execute_reply": "2021-02-12T09:05:25.270119Z"
    },
    "papermill": {
     "duration": 0.11258,
     "end_time": "2021-02-12T09:05:25.270879",
     "exception": false,
     "start_time": "2021-02-12T09:05:25.158299",
     "status": "completed"
    },
    "tags": []
   },
   "outputs": [],
   "source": [
    "def convert_to_float(image, label):\n",
    "    \"\"\"\n",
    "    Esta función garanriza dtypes similares para\n",
    "    todas nuestras imágenes, así no tendremos problemas\n",
    "    al futuro usando aceleradores. \n",
    "    \"\"\"\n",
    "    image = tf.image.convert_image_dtype(image, dtype=tf.float32)\n",
    "    return image, label\n",
    "\n",
    "AUTOTUNE = tf.data.experimental.AUTOTUNE #For improve CPU/GPU usage\n",
    "\n",
    "#Acá cargamos hacemos el preprocessing de las imágenes\n",
    "ds_train = (\n",
    "    ds_train_\n",
    "    .map(convert_to_float)\n",
    "    .cache()\n",
    "    .prefetch(buffer_size=AUTOTUNE)\n",
    ")\n",
    "\n",
    "ds_valid = (\n",
    "    ds_valid_\n",
    "    .map(convert_to_float)\n",
    "    .cache()\n",
    "    .prefetch(buffer_size=AUTOTUNE)\n",
    ")"
   ]
  },
  {
   "cell_type": "markdown",
   "metadata": {
    "papermill": {
     "duration": 0.037446,
     "end_time": "2021-02-12T09:05:25.346000",
     "exception": false,
     "start_time": "2021-02-12T09:05:25.308554",
     "status": "completed"
    },
    "tags": []
   },
   "source": [
    "Ahora vamos a construir nuestro modelo"
   ]
  },
  {
   "cell_type": "code",
   "execution_count": 10,
   "metadata": {
    "execution": {
     "iopub.execute_input": "2021-02-12T09:05:25.433864Z",
     "iopub.status.busy": "2021-02-12T09:05:25.433079Z",
     "iopub.status.idle": "2021-02-12T09:05:25.584219Z",
     "shell.execute_reply": "2021-02-12T09:05:25.583592Z"
    },
    "papermill": {
     "duration": 0.200344,
     "end_time": "2021-02-12T09:05:25.584373",
     "exception": false,
     "start_time": "2021-02-12T09:05:25.384029",
     "status": "completed"
    },
    "tags": []
   },
   "outputs": [],
   "source": [
    "model = keras.Sequential([\n",
    "    # Block One\n",
    "    layers.Conv2D(filters=32, kernel_size=3, activation='relu', padding='same',\n",
    "                  input_shape=[IMG_SIZE, IMG_SIZE, 3]),\n",
    "    layers.MaxPool2D(),\n",
    "    #layers.BatchNormalization(),\n",
    "\n",
    "\n",
    "    # Block Two\n",
    "    layers.Conv2D(filters=64, kernel_size=3, activation='relu', padding='same'),\n",
    "    layers.Conv2D(filters=64, kernel_size=3, activation='relu', padding='same'),\n",
    "    layers.MaxPool2D(),\n",
    "    #layers.BatchNormalization(),\n",
    "\n",
    "\n",
    "    # Block Three\n",
    "    layers.Conv2D(filters=128, kernel_size=3, activation='relu', padding='same'),\n",
    "    layers.Conv2D(filters=128, kernel_size=3, activation='relu', padding='same'),\n",
    "    layers.MaxPool2D(),\n",
    "    #layers.BatchNormalization(),\n",
    "    \n",
    "    # Block Four\n",
    "    layers.Conv2D(filters=256, kernel_size=3, activation='relu', padding='same'),\n",
    "    layers.Conv2D(filters=256, kernel_size=3, activation='relu', padding='same'),\n",
    "    layers.MaxPool2D(),\n",
    "    #layers.BatchNormalization(),\n",
    "\n",
    "\n",
    "    # Head\n",
    "    layers.Flatten(),\n",
    "    layers.Dense(60, activation='relu'),\n",
    "    layers.Dropout(0.2),\n",
    "    layers.BatchNormalization(),\n",
    "    layers.Dense(4, activation='softmax'),\n",
    "])"
   ]
  },
  {
   "cell_type": "code",
   "execution_count": 11,
   "metadata": {
    "execution": {
     "iopub.execute_input": "2021-02-12T09:05:25.668098Z",
     "iopub.status.busy": "2021-02-12T09:05:25.663275Z",
     "iopub.status.idle": "2021-02-12T09:05:25.676187Z",
     "shell.execute_reply": "2021-02-12T09:05:25.676742Z"
    },
    "papermill": {
     "duration": 0.054546,
     "end_time": "2021-02-12T09:05:25.676903",
     "exception": false,
     "start_time": "2021-02-12T09:05:25.622357",
     "status": "completed"
    },
    "tags": []
   },
   "outputs": [
    {
     "name": "stdout",
     "output_type": "stream",
     "text": [
      "Model: \"sequential\"\n",
      "_________________________________________________________________\n",
      "Layer (type)                 Output Shape              Param #   \n",
      "=================================================================\n",
      "conv2d (Conv2D)              (None, 256, 256, 32)      896       \n",
      "_________________________________________________________________\n",
      "max_pooling2d (MaxPooling2D) (None, 128, 128, 32)      0         \n",
      "_________________________________________________________________\n",
      "conv2d_1 (Conv2D)            (None, 128, 128, 64)      18496     \n",
      "_________________________________________________________________\n",
      "conv2d_2 (Conv2D)            (None, 128, 128, 64)      36928     \n",
      "_________________________________________________________________\n",
      "max_pooling2d_1 (MaxPooling2 (None, 64, 64, 64)        0         \n",
      "_________________________________________________________________\n",
      "conv2d_3 (Conv2D)            (None, 64, 64, 128)       73856     \n",
      "_________________________________________________________________\n",
      "conv2d_4 (Conv2D)            (None, 64, 64, 128)       147584    \n",
      "_________________________________________________________________\n",
      "max_pooling2d_2 (MaxPooling2 (None, 32, 32, 128)       0         \n",
      "_________________________________________________________________\n",
      "conv2d_5 (Conv2D)            (None, 32, 32, 256)       295168    \n",
      "_________________________________________________________________\n",
      "conv2d_6 (Conv2D)            (None, 32, 32, 256)       590080    \n",
      "_________________________________________________________________\n",
      "max_pooling2d_3 (MaxPooling2 (None, 16, 16, 256)       0         \n",
      "_________________________________________________________________\n",
      "flatten (Flatten)            (None, 65536)             0         \n",
      "_________________________________________________________________\n",
      "dense (Dense)                (None, 60)                3932220   \n",
      "_________________________________________________________________\n",
      "dropout (Dropout)            (None, 60)                0         \n",
      "_________________________________________________________________\n",
      "batch_normalization (BatchNo (None, 60)                240       \n",
      "_________________________________________________________________\n",
      "dense_1 (Dense)              (None, 4)                 244       \n",
      "=================================================================\n",
      "Total params: 5,095,712\n",
      "Trainable params: 5,095,592\n",
      "Non-trainable params: 120\n",
      "_________________________________________________________________\n"
     ]
    }
   ],
   "source": [
    "model.summary()"
   ]
  },
  {
   "cell_type": "markdown",
   "metadata": {
    "papermill": {
     "duration": 0.0383,
     "end_time": "2021-02-12T09:05:25.754400",
     "exception": false,
     "start_time": "2021-02-12T09:05:25.716100",
     "status": "completed"
    },
    "tags": []
   },
   "source": [
    "A continuación definimos nuestro optimizador, nuestra función de pérdida y las métricas a reportar durante el entrenamiento"
   ]
  },
  {
   "cell_type": "code",
   "execution_count": 12,
   "metadata": {
    "execution": {
     "iopub.execute_input": "2021-02-12T09:05:25.846859Z",
     "iopub.status.busy": "2021-02-12T09:05:25.845660Z",
     "iopub.status.idle": "2021-02-12T09:05:25.854290Z",
     "shell.execute_reply": "2021-02-12T09:05:25.853572Z"
    },
    "papermill": {
     "duration": 0.060331,
     "end_time": "2021-02-12T09:05:25.854440",
     "exception": false,
     "start_time": "2021-02-12T09:05:25.794109",
     "status": "completed"
    },
    "tags": []
   },
   "outputs": [],
   "source": [
    "model.compile(\n",
    "    optimizer=tf.keras.optimizers.Adam(lr=0.0001,epsilon=1e-07),\n",
    "    loss='categorical_crossentropy',\n",
    "    metrics=['accuracy'],\n",
    ")"
   ]
  },
  {
   "cell_type": "markdown",
   "metadata": {
    "papermill": {
     "duration": 0.038508,
     "end_time": "2021-02-12T09:05:25.932124",
     "exception": false,
     "start_time": "2021-02-12T09:05:25.893616",
     "status": "completed"
    },
    "tags": []
   },
   "source": [
    "Definimos un early stopping "
   ]
  },
  {
   "cell_type": "code",
   "execution_count": 13,
   "metadata": {
    "execution": {
     "iopub.execute_input": "2021-02-12T09:05:26.018003Z",
     "iopub.status.busy": "2021-02-12T09:05:26.016726Z",
     "iopub.status.idle": "2021-02-12T09:05:26.018741Z",
     "shell.execute_reply": "2021-02-12T09:05:26.019267Z"
    },
    "papermill": {
     "duration": 0.048126,
     "end_time": "2021-02-12T09:05:26.019435",
     "exception": false,
     "start_time": "2021-02-12T09:05:25.971309",
     "status": "completed"
    },
    "tags": []
   },
   "outputs": [],
   "source": [
    "early_stopping = tf.keras.callbacks.EarlyStopping(\n",
    "    min_delta=0.0001, # minimium amount of change to count as an improvement\n",
    "    patience=20, # how many epochs to wait before stopping\n",
    "    restore_best_weights=True,\n",
    ")"
   ]
  },
  {
   "cell_type": "markdown",
   "metadata": {
    "papermill": {
     "duration": 0.038351,
     "end_time": "2021-02-12T09:05:26.097227",
     "exception": false,
     "start_time": "2021-02-12T09:05:26.058876",
     "status": "completed"
    },
    "tags": []
   },
   "source": [
    "Y vamos a hacer el fitting del modelo"
   ]
  },
  {
   "cell_type": "code",
   "execution_count": 14,
   "metadata": {
    "execution": {
     "iopub.execute_input": "2021-02-12T09:05:26.181033Z",
     "iopub.status.busy": "2021-02-12T09:05:26.180262Z",
     "iopub.status.idle": "2021-02-12T09:11:31.344411Z",
     "shell.execute_reply": "2021-02-12T09:11:31.343782Z"
    },
    "papermill": {
     "duration": 365.208398,
     "end_time": "2021-02-12T09:11:31.344578",
     "exception": false,
     "start_time": "2021-02-12T09:05:26.136180",
     "status": "completed"
    },
    "tags": []
   },
   "outputs": [
    {
     "name": "stdout",
     "output_type": "stream",
     "text": [
      "Epoch 1/100\n",
      "45/45 [==============================] - 41s 705ms/step - loss: 1.0478 - accuracy: 0.5573 - val_loss: 1.3515 - val_accuracy: 0.3579\n",
      "Epoch 2/100\n",
      "45/45 [==============================] - 11s 239ms/step - loss: 0.7029 - accuracy: 0.7428 - val_loss: 1.3141 - val_accuracy: 0.4391\n",
      "Epoch 3/100\n",
      "45/45 [==============================] - 11s 239ms/step - loss: 0.5491 - accuracy: 0.8374 - val_loss: 1.3002 - val_accuracy: 0.5964\n",
      "Epoch 4/100\n",
      "45/45 [==============================] - 11s 239ms/step - loss: 0.4373 - accuracy: 0.8639 - val_loss: 1.2666 - val_accuracy: 0.5964\n",
      "Epoch 5/100\n",
      "45/45 [==============================] - 11s 240ms/step - loss: 0.3497 - accuracy: 0.8952 - val_loss: 1.1684 - val_accuracy: 0.7005\n",
      "Epoch 6/100\n",
      "45/45 [==============================] - 11s 239ms/step - loss: 0.2585 - accuracy: 0.9326 - val_loss: 1.2094 - val_accuracy: 0.7310\n",
      "Epoch 7/100\n",
      "45/45 [==============================] - 11s 240ms/step - loss: 0.2263 - accuracy: 0.9521 - val_loss: 0.9868 - val_accuracy: 0.7665\n",
      "Epoch 8/100\n",
      "45/45 [==============================] - 11s 240ms/step - loss: 0.1810 - accuracy: 0.9615 - val_loss: 0.9988 - val_accuracy: 0.7234\n",
      "Epoch 9/100\n",
      "45/45 [==============================] - 11s 239ms/step - loss: 0.1561 - accuracy: 0.9690 - val_loss: 0.8596 - val_accuracy: 0.7386\n",
      "Epoch 10/100\n",
      "45/45 [==============================] - 11s 240ms/step - loss: 0.1196 - accuracy: 0.9850 - val_loss: 0.8674 - val_accuracy: 0.7640\n",
      "Epoch 11/100\n",
      "45/45 [==============================] - 11s 240ms/step - loss: 0.0875 - accuracy: 0.9966 - val_loss: 0.7731 - val_accuracy: 0.7690\n",
      "Epoch 12/100\n",
      "45/45 [==============================] - 11s 239ms/step - loss: 0.0731 - accuracy: 0.9975 - val_loss: 0.8070 - val_accuracy: 0.7716\n",
      "Epoch 13/100\n",
      "45/45 [==============================] - 11s 239ms/step - loss: 0.0614 - accuracy: 0.9985 - val_loss: 0.8462 - val_accuracy: 0.7843\n",
      "Epoch 14/100\n",
      "45/45 [==============================] - 11s 240ms/step - loss: 0.0548 - accuracy: 0.9997 - val_loss: 0.8678 - val_accuracy: 0.7944\n",
      "Epoch 15/100\n",
      "45/45 [==============================] - 11s 239ms/step - loss: 0.0486 - accuracy: 0.9984 - val_loss: 0.9020 - val_accuracy: 0.7970\n",
      "Epoch 16/100\n",
      "45/45 [==============================] - 11s 239ms/step - loss: 0.0481 - accuracy: 0.9992 - val_loss: 1.0182 - val_accuracy: 0.7868\n",
      "Epoch 17/100\n",
      "45/45 [==============================] - 11s 240ms/step - loss: 0.0405 - accuracy: 0.9989 - val_loss: 1.0366 - val_accuracy: 0.7792\n",
      "Epoch 18/100\n",
      "45/45 [==============================] - 11s 239ms/step - loss: 0.0353 - accuracy: 0.9994 - val_loss: 0.9957 - val_accuracy: 0.7817\n",
      "Epoch 19/100\n",
      "45/45 [==============================] - 11s 239ms/step - loss: 0.0328 - accuracy: 0.9994 - val_loss: 1.0258 - val_accuracy: 0.7817\n",
      "Epoch 20/100\n",
      "45/45 [==============================] - 11s 240ms/step - loss: 0.0293 - accuracy: 0.9994 - val_loss: 1.0562 - val_accuracy: 0.7741\n",
      "Epoch 21/100\n",
      "45/45 [==============================] - 11s 239ms/step - loss: 0.0296 - accuracy: 1.0000 - val_loss: 0.9632 - val_accuracy: 0.7893\n",
      "Epoch 22/100\n",
      "45/45 [==============================] - 11s 239ms/step - loss: 0.0282 - accuracy: 1.0000 - val_loss: 1.1743 - val_accuracy: 0.7766\n",
      "Epoch 23/100\n",
      "45/45 [==============================] - 11s 242ms/step - loss: 0.0258 - accuracy: 1.0000 - val_loss: 0.8929 - val_accuracy: 0.7944\n",
      "Epoch 24/100\n",
      "45/45 [==============================] - 11s 239ms/step - loss: 0.0273 - accuracy: 1.0000 - val_loss: 1.0559 - val_accuracy: 0.7893\n",
      "Epoch 25/100\n",
      "45/45 [==============================] - 11s 239ms/step - loss: 0.0232 - accuracy: 1.0000 - val_loss: 1.1288 - val_accuracy: 0.7792\n",
      "Epoch 26/100\n",
      "45/45 [==============================] - 11s 240ms/step - loss: 0.0212 - accuracy: 1.0000 - val_loss: 1.0373 - val_accuracy: 0.7741\n",
      "Epoch 27/100\n",
      "45/45 [==============================] - 11s 239ms/step - loss: 0.0204 - accuracy: 1.0000 - val_loss: 1.2876 - val_accuracy: 0.7741\n",
      "Epoch 28/100\n",
      "45/45 [==============================] - 11s 239ms/step - loss: 0.0199 - accuracy: 0.9999 - val_loss: 1.1002 - val_accuracy: 0.7766\n",
      "Epoch 29/100\n",
      "45/45 [==============================] - 11s 240ms/step - loss: 0.0180 - accuracy: 1.0000 - val_loss: 1.4736 - val_accuracy: 0.7665\n",
      "Epoch 30/100\n",
      "45/45 [==============================] - 11s 240ms/step - loss: 0.0180 - accuracy: 1.0000 - val_loss: 1.4398 - val_accuracy: 0.7386\n",
      "Epoch 31/100\n",
      "45/45 [==============================] - 11s 241ms/step - loss: 0.0172 - accuracy: 1.0000 - val_loss: 1.1225 - val_accuracy: 0.7614\n"
     ]
    }
   ],
   "source": [
    "history = model.fit(\n",
    "    ds_train,\n",
    "    validation_data=ds_valid,\n",
    "    #batch_size=256,\n",
    "    epochs=100,\n",
    "    callbacks=[early_stopping]\n",
    ")"
   ]
  },
  {
   "cell_type": "code",
   "execution_count": 15,
   "metadata": {
    "execution": {
     "iopub.execute_input": "2021-02-12T09:11:32.537988Z",
     "iopub.status.busy": "2021-02-12T09:11:32.536293Z",
     "iopub.status.idle": "2021-02-12T09:11:32.539214Z",
     "shell.execute_reply": "2021-02-12T09:11:32.538656Z"
    },
    "papermill": {
     "duration": 0.603381,
     "end_time": "2021-02-12T09:11:32.539382",
     "exception": false,
     "start_time": "2021-02-12T09:11:31.936001",
     "status": "completed"
    },
    "tags": []
   },
   "outputs": [],
   "source": [
    "history_df = pd.DataFrame(history.history)"
   ]
  },
  {
   "cell_type": "code",
   "execution_count": 16,
   "metadata": {
    "execution": {
     "iopub.execute_input": "2021-02-12T09:11:33.736756Z",
     "iopub.status.busy": "2021-02-12T09:11:33.735770Z",
     "iopub.status.idle": "2021-02-12T09:11:34.056572Z",
     "shell.execute_reply": "2021-02-12T09:11:34.057214Z"
    },
    "papermill": {
     "duration": 0.926809,
     "end_time": "2021-02-12T09:11:34.057408",
     "exception": false,
     "start_time": "2021-02-12T09:11:33.130599",
     "status": "completed"
    },
    "tags": []
   },
   "outputs": [
    {
     "data": {
      "image/png": "[encoded data removed]",
      "text/plain": [
       "<Figure size 1200x1200 with 1 Axes>"
      ]
     },
     "metadata": {},
     "output_type": "display_data"
    }
   ],
   "source": [
    "fig,ax = plt.subplots(1,1,figsize=(10,10),dpi=120)\n",
    "ax.plot(history_df[\"accuracy\"],c = \"blue\",label='train')\n",
    "ax.plot(history_df[\"val_accuracy\"],c = \"green\",label='test')\n",
    "ax.set_title(\"Accuracy\")\n",
    "ax.set_ylabel(\"Accuracy\")\n",
    "ax.set_xlabel(\"Epochs\")\n",
    "plt.show()"
   ]
  },
  {
   "cell_type": "code",
   "execution_count": 17,
   "metadata": {
    "execution": {
     "iopub.execute_input": "2021-02-12T09:11:35.275153Z",
     "iopub.status.busy": "2021-02-12T09:11:35.274074Z",
     "iopub.status.idle": "2021-02-12T09:11:35.276357Z",
     "shell.execute_reply": "2021-02-12T09:11:35.276958Z"
    },
    "papermill": {
     "duration": 0.603719,
     "end_time": "2021-02-12T09:11:35.277142",
     "exception": false,
     "start_time": "2021-02-12T09:11:34.673423",
     "status": "completed"
    },
    "tags": []
   },
   "outputs": [],
   "source": [
    "#history_df.to_csv('History_run_1.csv')"
   ]
  },
  {
   "cell_type": "markdown",
   "metadata": {
    "papermill": {
     "duration": 0.592252,
     "end_time": "2021-02-12T09:11:36.536584",
     "exception": false,
     "start_time": "2021-02-12T09:11:35.944332",
     "status": "completed"
    },
    "tags": []
   },
   "source": [
    "Ahora, en [1] se aborda como _redes convolucionales planas_, tienen una limitante en aprendizaje y ello conlleva a un límite en accurracy y en la función de pérdida. Esta límitante se expresa aún añadiendo más capas convolucionales e incluso empeora el accurracy  mientras más capas se añaden. \n",
    "\n",
    "Vamos a hacer transfer learning: usar un [modelo pre-entrenado](https://www.tensorflow.org/api_docs/python/tf/keras/applications) de los disponibles en la base de TF y después hacer fine tunnig con nuestros datos. \n",
    "\n",
    "Solamente como flag el accurracy del modelo hasta ahora con una CNN plana de 4 hidden-layers es de $ \\sim0.8$."
   ]
  },
  {
   "cell_type": "markdown",
   "metadata": {
    "papermill": {
     "duration": 0.582587,
     "end_time": "2021-02-12T09:11:37.700316",
     "exception": false,
     "start_time": "2021-02-12T09:11:37.117729",
     "status": "completed"
    },
    "tags": []
   },
   "source": [
    "## Una segunda iteración: Transfer Lerarning & Data Augmentation\n",
    "\n",
    "Ahora bien, en pos de poder aumentar los datos para la red vamos a realizar técnicas de data augmentation. Notemos que las MRI mantienen sus propiedades al recibir rotaciones y reflexiones, usando este hecho vamos a agregar en nuestro modelo secuencial una capa de Random Flip horizontal así la red recibirá nuevos datos y esperamos estas perturbaciones puendan ayudarnos en el entrenamiento posterior. "
   ]
  },
  {
   "cell_type": "code",
   "execution_count": 18,
   "metadata": {
    "execution": {
     "iopub.execute_input": "2021-02-12T09:11:38.908765Z",
     "iopub.status.busy": "2021-02-12T09:11:38.907727Z",
     "iopub.status.idle": "2021-02-12T09:11:38.964494Z",
     "shell.execute_reply": "2021-02-12T09:11:38.968805Z"
    },
    "papermill": {
     "duration": 0.692448,
     "end_time": "2021-02-12T09:11:38.969060",
     "exception": false,
     "start_time": "2021-02-12T09:11:38.276612",
     "status": "completed"
    },
    "tags": []
   },
   "outputs": [],
   "source": [
    "model_augmented = keras.Sequential([\n",
    "    \n",
    "    #Adding a preprocessing part\n",
    "    \n",
    "    layers.experimental.preprocessing.RandomFlip('horizontal'),\n",
    "    #layers.experimental.preprocessing.RandomContrast(0.5),\n",
    "    \n",
    "    # Block One\n",
    "    layers.Conv2D(filters=32, kernel_size=3, activation='relu', padding='same',\n",
    "                  input_shape=[IMG_SIZE, IMG_SIZE, 3]),\n",
    "    layers.MaxPool2D(),\n",
    "    #layers.BatchNormalization(),\n",
    "\n",
    "\n",
    "    # Block Two\n",
    "    layers.Conv2D(filters=64, kernel_size=3, activation='relu', padding='same'),\n",
    "    layers.Conv2D(filters=64, kernel_size=3, activation='relu', padding='same'),\n",
    "    layers.MaxPool2D(),\n",
    "    #layers.BatchNormalization(),\n",
    "\n",
    "\n",
    "    # Block Three\n",
    "    layers.Conv2D(filters=128, kernel_size=3, activation='relu', padding='same'),\n",
    "    layers.Conv2D(filters=128, kernel_size=3, activation='relu', padding='same'),\n",
    "    layers.MaxPool2D(),\n",
    "    #layers.BatchNormalization(),\n",
    "    \n",
    "    # Block Four\n",
    "    layers.Conv2D(filters=256, kernel_size=3, activation='relu', padding='same'),\n",
    "    layers.Conv2D(filters=256, kernel_size=3, activation='relu', padding='same'),\n",
    "    layers.MaxPool2D(),\n",
    "    #layers.BatchNormalization(),\n",
    "\n",
    "\n",
    "    # Head\n",
    "    layers.Flatten(),\n",
    "    layers.Dense(60, activation='relu'),\n",
    "    layers.Dropout(0.2),\n",
    "    layers.BatchNormalization(),\n",
    "    layers.Dense(4, activation='softmax'),\n",
    "])"
   ]
  },
  {
   "cell_type": "code",
   "execution_count": 19,
   "metadata": {
    "execution": {
     "iopub.execute_input": "2021-02-12T09:11:40.428121Z",
     "iopub.status.busy": "2021-02-12T09:11:40.427371Z",
     "iopub.status.idle": "2021-02-12T09:11:40.524407Z",
     "shell.execute_reply": "2021-02-12T09:11:40.523614Z"
    },
    "papermill": {
     "duration": 0.775279,
     "end_time": "2021-02-12T09:11:40.524569",
     "exception": false,
     "start_time": "2021-02-12T09:11:39.749290",
     "status": "completed"
    },
    "tags": []
   },
   "outputs": [],
   "source": [
    "model_augmented.build(ds_train.element_spec[0].shape) #Como no hay capa de input tenemos que hacer un build para poder hacer un summary del modelo"
   ]
  },
  {
   "cell_type": "code",
   "execution_count": 20,
   "metadata": {
    "execution": {
     "iopub.execute_input": "2021-02-12T09:11:41.742043Z",
     "iopub.status.busy": "2021-02-12T09:11:41.740961Z",
     "iopub.status.idle": "2021-02-12T09:11:41.763631Z",
     "shell.execute_reply": "2021-02-12T09:11:41.764589Z"
    },
    "papermill": {
     "duration": 0.665109,
     "end_time": "2021-02-12T09:11:41.764891",
     "exception": false,
     "start_time": "2021-02-12T09:11:41.099782",
     "status": "completed"
    },
    "tags": []
   },
   "outputs": [
    {
     "name": "stdout",
     "output_type": "stream",
     "text": [
      "Model: \"sequential_1\"\n",
      "_________________________________________________________________\n",
      "Layer (type)                 Output Shape              Param #   \n",
      "=================================================================\n",
      "random_flip (RandomFlip)     (None, 256, 256, 3)       0         \n",
      "_________________________________________________________________\n",
      "conv2d_7 (Conv2D)            (None, 256, 256, 32)      896       \n",
      "_________________________________________________________________\n",
      "max_pooling2d_4 (MaxPooling2 (None, 128, 128, 32)      0         \n",
      "_________________________________________________________________\n",
      "conv2d_8 (Conv2D)            (None, 128, 128, 64)      18496     \n",
      "_________________________________________________________________\n",
      "conv2d_9 (Conv2D)            (None, 128, 128, 64)      36928     \n",
      "_________________________________________________________________\n",
      "max_pooling2d_5 (MaxPooling2 (None, 64, 64, 64)        0         \n",
      "_________________________________________________________________\n",
      "conv2d_10 (Conv2D)           (None, 64, 64, 128)       73856     \n",
      "_________________________________________________________________\n",
      "conv2d_11 (Conv2D)           (None, 64, 64, 128)       147584    \n",
      "_________________________________________________________________\n",
      "max_pooling2d_6 (MaxPooling2 (None, 32, 32, 128)       0         \n",
      "_________________________________________________________________\n",
      "conv2d_12 (Conv2D)           (None, 32, 32, 256)       295168    \n",
      "_________________________________________________________________\n",
      "conv2d_13 (Conv2D)           (None, 32, 32, 256)       590080    \n",
      "_________________________________________________________________\n",
      "max_pooling2d_7 (MaxPooling2 (None, 16, 16, 256)       0         \n",
      "_________________________________________________________________\n",
      "flatten_1 (Flatten)          (None, 65536)             0         \n",
      "_________________________________________________________________\n",
      "dense_2 (Dense)              (None, 60)                3932220   \n",
      "_________________________________________________________________\n",
      "dropout_1 (Dropout)          (None, 60)                0         \n",
      "_________________________________________________________________\n",
      "batch_normalization_1 (Batch (None, 60)                240       \n",
      "_________________________________________________________________\n",
      "dense_3 (Dense)              (None, 4)                 244       \n",
      "=================================================================\n",
      "Total params: 5,095,712\n",
      "Trainable params: 5,095,592\n",
      "Non-trainable params: 120\n",
      "_________________________________________________________________\n"
     ]
    }
   ],
   "source": [
    "model_augmented.summary()"
   ]
  },
  {
   "cell_type": "code",
   "execution_count": 21,
   "metadata": {
    "execution": {
     "iopub.execute_input": "2021-02-12T09:11:43.072519Z",
     "iopub.status.busy": "2021-02-12T09:11:43.071440Z",
     "iopub.status.idle": "2021-02-12T09:11:43.077516Z",
     "shell.execute_reply": "2021-02-12T09:11:43.076873Z"
    },
    "papermill": {
     "duration": 0.591447,
     "end_time": "2021-02-12T09:11:43.077672",
     "exception": false,
     "start_time": "2021-02-12T09:11:42.486225",
     "status": "completed"
    },
    "tags": []
   },
   "outputs": [],
   "source": [
    "model_augmented.compile(\n",
    "    optimizer=tf.keras.optimizers.Adam(lr=0.0001,epsilon=1e-07),\n",
    "    loss='categorical_crossentropy',\n",
    "    metrics=['accuracy'],\n",
    ")"
   ]
  },
  {
   "cell_type": "code",
   "execution_count": 22,
   "metadata": {
    "execution": {
     "iopub.execute_input": "2021-02-12T09:11:44.235189Z",
     "iopub.status.busy": "2021-02-12T09:11:44.234307Z",
     "iopub.status.idle": "2021-02-12T09:19:21.926610Z",
     "shell.execute_reply": "2021-02-12T09:19:21.927491Z"
    },
    "papermill": {
     "duration": 458.273589,
     "end_time": "2021-02-12T09:19:21.927763",
     "exception": false,
     "start_time": "2021-02-12T09:11:43.654174",
     "status": "completed"
    },
    "tags": []
   },
   "outputs": [
    {
     "name": "stdout",
     "output_type": "stream",
     "text": [
      "Epoch 1/100\n",
      "45/45 [==============================] - 12s 245ms/step - loss: 1.0631 - accuracy: 0.5406 - val_loss: 1.3578 - val_accuracy: 0.4137\n",
      "Epoch 2/100\n",
      "45/45 [==============================] - 11s 240ms/step - loss: 0.7339 - accuracy: 0.7066 - val_loss: 1.3215 - val_accuracy: 0.5228\n",
      "Epoch 3/100\n",
      "45/45 [==============================] - 11s 243ms/step - loss: 0.5926 - accuracy: 0.7756 - val_loss: 1.2747 - val_accuracy: 0.5685\n",
      "Epoch 4/100\n",
      "45/45 [==============================] - 11s 241ms/step - loss: 0.4958 - accuracy: 0.8326 - val_loss: 1.2406 - val_accuracy: 0.5888\n",
      "Epoch 5/100\n",
      "45/45 [==============================] - 11s 241ms/step - loss: 0.4309 - accuracy: 0.8499 - val_loss: 1.1320 - val_accuracy: 0.6497\n",
      "Epoch 6/100\n",
      "45/45 [==============================] - 11s 242ms/step - loss: 0.3564 - accuracy: 0.8959 - val_loss: 1.1152 - val_accuracy: 0.6168\n",
      "Epoch 7/100\n",
      "45/45 [==============================] - 11s 241ms/step - loss: 0.3007 - accuracy: 0.9131 - val_loss: 1.0711 - val_accuracy: 0.6853\n",
      "Epoch 8/100\n",
      "45/45 [==============================] - 11s 241ms/step - loss: 0.2578 - accuracy: 0.9287 - val_loss: 0.9962 - val_accuracy: 0.6954\n",
      "Epoch 9/100\n",
      "45/45 [==============================] - 11s 242ms/step - loss: 0.2287 - accuracy: 0.9428 - val_loss: 1.0842 - val_accuracy: 0.6827\n",
      "Epoch 10/100\n",
      "45/45 [==============================] - 11s 241ms/step - loss: 0.1738 - accuracy: 0.9652 - val_loss: 1.0983 - val_accuracy: 0.7030\n",
      "Epoch 11/100\n",
      "45/45 [==============================] - 11s 241ms/step - loss: 0.1448 - accuracy: 0.9735 - val_loss: 1.1469 - val_accuracy: 0.7411\n",
      "Epoch 12/100\n",
      "45/45 [==============================] - 11s 241ms/step - loss: 0.1212 - accuracy: 0.9794 - val_loss: 0.9288 - val_accuracy: 0.7563\n",
      "Epoch 13/100\n",
      "45/45 [==============================] - 11s 241ms/step - loss: 0.1122 - accuracy: 0.9826 - val_loss: 1.0063 - val_accuracy: 0.7284\n",
      "Epoch 14/100\n",
      "45/45 [==============================] - 11s 241ms/step - loss: 0.0993 - accuracy: 0.9895 - val_loss: 1.0854 - val_accuracy: 0.7513\n",
      "Epoch 15/100\n",
      "45/45 [==============================] - 11s 242ms/step - loss: 0.0853 - accuracy: 0.9866 - val_loss: 1.0101 - val_accuracy: 0.7538\n",
      "Epoch 16/100\n",
      "45/45 [==============================] - 11s 241ms/step - loss: 0.0731 - accuracy: 0.9951 - val_loss: 1.0241 - val_accuracy: 0.7690\n",
      "Epoch 17/100\n",
      "45/45 [==============================] - 11s 241ms/step - loss: 0.0589 - accuracy: 0.9973 - val_loss: 0.9890 - val_accuracy: 0.7665\n",
      "Epoch 18/100\n",
      "45/45 [==============================] - 11s 242ms/step - loss: 0.0499 - accuracy: 0.9974 - val_loss: 1.0749 - val_accuracy: 0.7614\n",
      "Epoch 19/100\n",
      "45/45 [==============================] - 11s 241ms/step - loss: 0.0472 - accuracy: 0.9981 - val_loss: 1.3553 - val_accuracy: 0.7234\n",
      "Epoch 20/100\n",
      "45/45 [==============================] - 11s 242ms/step - loss: 0.0408 - accuracy: 0.9982 - val_loss: 1.1083 - val_accuracy: 0.7589\n",
      "Epoch 21/100\n",
      "45/45 [==============================] - 11s 242ms/step - loss: 0.0371 - accuracy: 0.9993 - val_loss: 1.0636 - val_accuracy: 0.7640\n",
      "Epoch 22/100\n",
      "45/45 [==============================] - 11s 242ms/step - loss: 0.0342 - accuracy: 0.9999 - val_loss: 0.8966 - val_accuracy: 0.7589\n",
      "Epoch 23/100\n",
      "45/45 [==============================] - 11s 242ms/step - loss: 0.0356 - accuracy: 0.9978 - val_loss: 0.9014 - val_accuracy: 0.7716\n",
      "Epoch 24/100\n",
      "45/45 [==============================] - 11s 242ms/step - loss: 0.0299 - accuracy: 0.9999 - val_loss: 1.0139 - val_accuracy: 0.7690\n",
      "Epoch 25/100\n",
      "45/45 [==============================] - 11s 242ms/step - loss: 0.0278 - accuracy: 0.9997 - val_loss: 1.0725 - val_accuracy: 0.7614\n",
      "Epoch 26/100\n",
      "45/45 [==============================] - 11s 241ms/step - loss: 0.0250 - accuracy: 0.9995 - val_loss: 1.1631 - val_accuracy: 0.7665\n",
      "Epoch 27/100\n",
      "45/45 [==============================] - 11s 241ms/step - loss: 0.0247 - accuracy: 0.9997 - val_loss: 1.1581 - val_accuracy: 0.7614\n",
      "Epoch 28/100\n",
      "45/45 [==============================] - 11s 241ms/step - loss: 0.0229 - accuracy: 0.9992 - val_loss: 1.1999 - val_accuracy: 0.7563\n",
      "Epoch 29/100\n",
      "45/45 [==============================] - 11s 241ms/step - loss: 0.0203 - accuracy: 1.0000 - val_loss: 1.2432 - val_accuracy: 0.7614\n",
      "Epoch 30/100\n",
      "45/45 [==============================] - 11s 241ms/step - loss: 0.0185 - accuracy: 0.9996 - val_loss: 1.1924 - val_accuracy: 0.7614\n",
      "Epoch 31/100\n",
      "45/45 [==============================] - 11s 241ms/step - loss: 0.0172 - accuracy: 1.0000 - val_loss: 1.2160 - val_accuracy: 0.7563\n",
      "Epoch 32/100\n",
      "45/45 [==============================] - 11s 241ms/step - loss: 0.0174 - accuracy: 1.0000 - val_loss: 1.2711 - val_accuracy: 0.7589\n",
      "Epoch 33/100\n",
      "45/45 [==============================] - 11s 242ms/step - loss: 0.0157 - accuracy: 1.0000 - val_loss: 1.2109 - val_accuracy: 0.7589\n",
      "Epoch 34/100\n",
      "45/45 [==============================] - 11s 241ms/step - loss: 0.0150 - accuracy: 0.9999 - val_loss: 1.2262 - val_accuracy: 0.7589\n",
      "Epoch 35/100\n",
      "45/45 [==============================] - 11s 241ms/step - loss: 0.0142 - accuracy: 1.0000 - val_loss: 1.3227 - val_accuracy: 0.7538\n",
      "Epoch 36/100\n",
      "45/45 [==============================] - 11s 242ms/step - loss: 0.0135 - accuracy: 1.0000 - val_loss: 1.3542 - val_accuracy: 0.7437\n",
      "Epoch 37/100\n",
      "45/45 [==============================] - 11s 241ms/step - loss: 0.0123 - accuracy: 0.9997 - val_loss: 1.0058 - val_accuracy: 0.7640\n",
      "Epoch 38/100\n",
      "45/45 [==============================] - 11s 241ms/step - loss: 0.0134 - accuracy: 0.9999 - val_loss: 1.1609 - val_accuracy: 0.7487\n",
      "Epoch 39/100\n",
      "45/45 [==============================] - 11s 242ms/step - loss: 0.0137 - accuracy: 1.0000 - val_loss: 1.4047 - val_accuracy: 0.7589\n",
      "Epoch 40/100\n",
      "45/45 [==============================] - 11s 241ms/step - loss: 0.0104 - accuracy: 0.9999 - val_loss: 1.2327 - val_accuracy: 0.7563\n",
      "Epoch 41/100\n",
      "45/45 [==============================] - 11s 241ms/step - loss: 0.0104 - accuracy: 0.9998 - val_loss: 1.2214 - val_accuracy: 0.7513\n",
      "Epoch 42/100\n",
      "45/45 [==============================] - 11s 242ms/step - loss: 0.0095 - accuracy: 1.0000 - val_loss: 1.1966 - val_accuracy: 0.7640\n"
     ]
    }
   ],
   "source": [
    "history_augmented = model_augmented.fit(\n",
    "    ds_train,\n",
    "    validation_data=ds_valid,\n",
    "    #batch_size=256,\n",
    "    epochs=100,\n",
    "    callbacks=[early_stopping]\n",
    ")"
   ]
  },
  {
   "cell_type": "code",
   "execution_count": 23,
   "metadata": {
    "execution": {
     "iopub.execute_input": "2021-02-12T09:19:24.836970Z",
     "iopub.status.busy": "2021-02-12T09:19:24.836143Z",
     "iopub.status.idle": "2021-02-12T09:19:24.841266Z",
     "shell.execute_reply": "2021-02-12T09:19:24.840668Z"
    },
    "papermill": {
     "duration": 1.561933,
     "end_time": "2021-02-12T09:19:24.841406",
     "exception": false,
     "start_time": "2021-02-12T09:19:23.279473",
     "status": "completed"
    },
    "tags": []
   },
   "outputs": [],
   "source": [
    "history_augmented_df = pd.DataFrame(history_augmented.history)"
   ]
  },
  {
   "cell_type": "code",
   "execution_count": 24,
   "metadata": {
    "execution": {
     "iopub.execute_input": "2021-02-12T09:19:27.466079Z",
     "iopub.status.busy": "2021-02-12T09:19:27.464983Z",
     "iopub.status.idle": "2021-02-12T09:19:27.722096Z",
     "shell.execute_reply": "2021-02-12T09:19:27.722737Z"
    },
    "papermill": {
     "duration": 1.576289,
     "end_time": "2021-02-12T09:19:27.722967",
     "exception": false,
     "start_time": "2021-02-12T09:19:26.146678",
     "status": "completed"
    },
    "tags": []
   },
   "outputs": [
    {
     "data": {
      "image/png": "[encoded data removed]",
      "text/plain": [
       "<Figure size 1200x1200 with 1 Axes>"
      ]
     },
     "metadata": {},
     "output_type": "display_data"
    }
   ],
   "source": [
    "fig,ax = plt.subplots(1,1,figsize=(10,10),dpi=120)\n",
    "ax.plot(history_augmented_df[\"accuracy\"],c = \"blue\",label='train')\n",
    "ax.plot(history_augmented_df[\"val_accuracy\"],c = \"green\",label='test')\n",
    "ax.set_title(\"Accuracy\")\n",
    "ax.set_ylabel(\"Accuracy\")\n",
    "ax.set_xlabel(\"Epochs\")\n",
    "plt.show()"
   ]
  },
  {
   "cell_type": "markdown",
   "metadata": {
    "papermill": {
     "duration": 1.334198,
     "end_time": "2021-02-12T09:19:30.375380",
     "exception": false,
     "start_time": "2021-02-12T09:19:29.041182",
     "status": "completed"
    },
    "tags": []
   },
   "source": [
    "## Transfer learning: EfficientNetB0 and ResNet50\n",
    "\n",
    "En vista de los modelos anteriores y la necesidad de escalamiento probar otras arquitecturas es una necesidad que vamos a poder suplir añadiendo capas y mateniedo una _red plana_. Sin embargo entrenar redes de arquitecturas complejos necesita una gran cantidad de hardware y tiempo; cuando no tenemos ese tiempo disponible entra en juego el uso de técnicas de transfer lerning.\n",
    "\n",
    "Esta ocasión vamos a trabjar con el modelo [EfficientNetB0](https://www.tensorflow.org/api_docs/python/tf/keras/applications/EfficientNetB0) y con [ResNet50](https://www.tensorflow.org/api_docs/python/tf/keras/applications/ResNet50), estos modulos pre-entrenados los usaremos como **base** para nuestra red y los parámetros que entrenaremos serán los de la cabeza del modelo. "
   ]
  },
  {
   "cell_type": "markdown",
   "metadata": {
    "papermill": {
     "duration": 1.300649,
     "end_time": "2021-02-12T09:19:32.969739",
     "exception": false,
     "start_time": "2021-02-12T09:19:31.669090",
     "status": "completed"
    },
    "tags": []
   },
   "source": [
    "Comenzaremos por trabajar con EfficientNetB0. "
   ]
  },
  {
   "cell_type": "code",
   "execution_count": 25,
   "metadata": {
    "execution": {
     "iopub.execute_input": "2021-02-12T09:19:35.824184Z",
     "iopub.status.busy": "2021-02-12T09:19:35.823136Z",
     "iopub.status.idle": "2021-02-12T09:19:35.825272Z",
     "shell.execute_reply": "2021-02-12T09:19:35.825781Z"
    },
    "papermill": {
     "duration": 1.550965,
     "end_time": "2021-02-12T09:19:35.825962",
     "exception": false,
     "start_time": "2021-02-12T09:19:34.274997",
     "status": "completed"
    },
    "tags": []
   },
   "outputs": [],
   "source": [
    "# Ya sabemos que tenemos un file de input y de trainig:\n",
    "MAINDIR = '../input/brain-tumor-classification-mri/Training'"
   ]
  },
  {
   "cell_type": "code",
   "execution_count": 26,
   "metadata": {
    "execution": {
     "iopub.execute_input": "2021-02-12T09:19:38.425096Z",
     "iopub.status.busy": "2021-02-12T09:19:38.424325Z",
     "iopub.status.idle": "2021-02-12T09:19:38.433391Z",
     "shell.execute_reply": "2021-02-12T09:19:38.433948Z"
    },
    "papermill": {
     "duration": 1.309178,
     "end_time": "2021-02-12T09:19:38.434121",
     "exception": false,
     "start_time": "2021-02-12T09:19:37.124943",
     "status": "completed"
    },
    "tags": []
   },
   "outputs": [
    {
     "data": {
      "text/plain": [
       "['no_tumor', 'pituitary_tumor', 'meningioma_tumor', 'glioma_tumor']"
      ]
     },
     "execution_count": 26,
     "metadata": {},
     "output_type": "execute_result"
    }
   ],
   "source": [
    "# En el directio principal tenemos cuatro clases de imagenes ya pre-clasificadas\n",
    "os.listdir(MAINDIR)"
   ]
  },
  {
   "cell_type": "code",
   "execution_count": 27,
   "metadata": {
    "execution": {
     "iopub.execute_input": "2021-02-12T09:19:41.047118Z",
     "iopub.status.busy": "2021-02-12T09:19:41.046217Z",
     "iopub.status.idle": "2021-02-12T09:19:55.947974Z",
     "shell.execute_reply": "2021-02-12T09:19:55.947324Z"
    },
    "papermill": {
     "duration": 16.193398,
     "end_time": "2021-02-12T09:19:55.948167",
     "exception": false,
     "start_time": "2021-02-12T09:19:39.754769",
     "status": "completed"
    },
    "tags": []
   },
   "outputs": [],
   "source": [
    "# Esta vez, para procurar tener la mayor cantidad data disponible en vamos cargar todo el data set,\n",
    "# tanto trainig como testing en el mismo array y después vamos a partirlo en una parte de entranamiento\n",
    "# y otro de testing. Ahora En el caso de EffNetB tenemos más libertar respecto al input shape pero no\n",
    "# así con ResNet, razón por la cual vamos a fijar un reshape a (224,224,3). \n",
    "\n",
    "IMG_SHAPE = 224\n",
    "X, Y = [],[]\n",
    "\n",
    "for kind in os.listdir(MAINDIR):\n",
    "    _dir = os.path.join(MAINDIR,kind)\n",
    "    for img_path in map(lambda x:os.path.join(_dir,x),os.listdir(_dir)):\n",
    "        img = cv2.imread(img_path)\n",
    "        img = cv2.resize(img,(IMG_SHAPE,IMG_SHAPE))\n",
    "        X.append(img)\n",
    "    Y = Y+[kind]*len(os.listdir(_dir))\n",
    "    \n",
    "\n",
    "for kind in os.listdir(MAINDIR.replace('Training','Testing')):\n",
    "    _dir = os.path.join(MAINDIR.replace('Training','Testing'),kind)\n",
    "    for img_path in map(lambda x:os.path.join(_dir,x),os.listdir(_dir)):\n",
    "        img = cv2.imread(img_path)\n",
    "        img = cv2.resize(img,(IMG_SHAPE,IMG_SHAPE))\n",
    "        X.append(img)\n",
    "    Y = Y+[kind]*len(os.listdir(_dir))"
   ]
  },
  {
   "cell_type": "code",
   "execution_count": 28,
   "metadata": {
    "execution": {
     "iopub.execute_input": "2021-02-12T09:19:58.769893Z",
     "iopub.status.busy": "2021-02-12T09:19:58.769137Z",
     "iopub.status.idle": "2021-02-12T09:19:58.931751Z",
     "shell.execute_reply": "2021-02-12T09:19:58.931161Z"
    },
    "papermill": {
     "duration": 1.461641,
     "end_time": "2021-02-12T09:19:58.931913",
     "exception": false,
     "start_time": "2021-02-12T09:19:57.470272",
     "status": "completed"
    },
    "tags": []
   },
   "outputs": [
    {
     "name": "stdout",
     "output_type": "stream",
     "text": [
      "Hay 3264 imágenes de shape (224, 224, 3) de igual manera hay 3264 etiquetas\n"
     ]
    }
   ],
   "source": [
    "X = np.array(X)\n",
    "Y = np.array(Y)\n",
    "print('Hay {} imágenes de shape {} de igual manera hay {} etiquetas'.format(X.shape[0],X.shape[1:],Y.shape[0]))"
   ]
  },
  {
   "cell_type": "code",
   "execution_count": 29,
   "metadata": {
    "execution": {
     "iopub.execute_input": "2021-02-12T09:20:01.563551Z",
     "iopub.status.busy": "2021-02-12T09:20:01.562770Z",
     "iopub.status.idle": "2021-02-12T09:20:01.568566Z",
     "shell.execute_reply": "2021-02-12T09:20:01.567870Z"
    },
    "papermill": {
     "duration": 1.327629,
     "end_time": "2021-02-12T09:20:01.568747",
     "exception": false,
     "start_time": "2021-02-12T09:20:00.241118",
     "status": "completed"
    },
    "tags": []
   },
   "outputs": [
    {
     "name": "stdout",
     "output_type": "stream",
     "text": [
      "Counter({'meningioma_tumor': 937, 'glioma_tumor': 926, 'pituitary_tumor': 901, 'no_tumor': 500})\n"
     ]
    }
   ],
   "source": [
    "# Esta es la distribución de etiquetas\n",
    "print(collections.Counter(Y))"
   ]
  },
  {
   "cell_type": "code",
   "execution_count": 30,
   "metadata": {
    "execution": {
     "iopub.execute_input": "2021-02-12T09:20:04.254520Z",
     "iopub.status.busy": "2021-02-12T09:20:04.253758Z",
     "iopub.status.idle": "2021-02-12T09:20:04.258740Z",
     "shell.execute_reply": "2021-02-12T09:20:04.258200Z"
    },
    "papermill": {
     "duration": 1.37026,
     "end_time": "2021-02-12T09:20:04.258888",
     "exception": false,
     "start_time": "2021-02-12T09:20:02.888628",
     "status": "completed"
    },
    "tags": []
   },
   "outputs": [],
   "source": [
    "# Ahora bien, hacemos label encoding de las etiquetas:\n",
    "Y_ = Y.copy()\n",
    "le = LabelEncoder()\n",
    "Y = le.fit_transform(Y)"
   ]
  },
  {
   "cell_type": "code",
   "execution_count": 31,
   "metadata": {
    "execution": {
     "iopub.execute_input": "2021-02-12T09:20:06.915414Z",
     "iopub.status.busy": "2021-02-12T09:20:06.913340Z",
     "iopub.status.idle": "2021-02-12T09:20:06.918360Z",
     "shell.execute_reply": "2021-02-12T09:20:06.917771Z"
    },
    "papermill": {
     "duration": 1.320307,
     "end_time": "2021-02-12T09:20:06.918528",
     "exception": false,
     "start_time": "2021-02-12T09:20:05.598221",
     "status": "completed"
    },
    "tags": []
   },
   "outputs": [
    {
     "name": "stdout",
     "output_type": "stream",
     "text": [
      "{0: 'glioma_tumor', 1: 'meningioma_tumor', 2: 'no_tumor', 3: 'pituitary_tumor'}\n"
     ]
    }
   ],
   "source": [
    "yDict = {i:Y_[Y==i][0] for i in np.unique(Y)}\n",
    "print(yDict)"
   ]
  },
  {
   "cell_type": "code",
   "execution_count": 32,
   "metadata": {
    "execution": {
     "iopub.execute_input": "2021-02-12T09:20:09.794468Z",
     "iopub.status.busy": "2021-02-12T09:20:09.791525Z",
     "iopub.status.idle": "2021-02-12T09:20:09.796920Z",
     "shell.execute_reply": "2021-02-12T09:20:09.796335Z"
    },
    "papermill": {
     "duration": 1.336565,
     "end_time": "2021-02-12T09:20:09.797062",
     "exception": false,
     "start_time": "2021-02-12T09:20:08.460497",
     "status": "completed"
    },
    "tags": []
   },
   "outputs": [
    {
     "name": "stdout",
     "output_type": "stream",
     "text": [
      "(3264, 4)\n"
     ]
    }
   ],
   "source": [
    "# Ahora ese label encoding vamos a pasarlo a Hot Encoding\n",
    "Y = keras.utils.to_categorical(Y,num_classes=4)\n",
    "print(Y.shape)"
   ]
  },
  {
   "cell_type": "code",
   "execution_count": 33,
   "metadata": {
    "execution": {
     "iopub.execute_input": "2021-02-12T09:20:12.479007Z",
     "iopub.status.busy": "2021-02-12T09:20:12.477420Z",
     "iopub.status.idle": "2021-02-12T09:20:12.629646Z",
     "shell.execute_reply": "2021-02-12T09:20:12.629043Z"
    },
    "papermill": {
     "duration": 1.512243,
     "end_time": "2021-02-12T09:20:12.629830",
     "exception": false,
     "start_time": "2021-02-12T09:20:11.117587",
     "status": "completed"
    },
    "tags": []
   },
   "outputs": [],
   "source": [
    "# Ahora realizamos un shuffle de los datos \n",
    "x,y = shuffle(X,Y) # Notemos que a partir de acá cambiamos a x,y en lugar de X,Y"
   ]
  },
  {
   "cell_type": "code",
   "execution_count": 34,
   "metadata": {
    "execution": {
     "iopub.execute_input": "2021-02-12T09:20:15.249848Z",
     "iopub.status.busy": "2021-02-12T09:20:15.247855Z",
     "iopub.status.idle": "2021-02-12T09:20:15.359623Z",
     "shell.execute_reply": "2021-02-12T09:20:15.359024Z"
    },
    "papermill": {
     "duration": 1.424856,
     "end_time": "2021-02-12T09:20:15.359798",
     "exception": false,
     "start_time": "2021-02-12T09:20:13.934942",
     "status": "completed"
    },
    "tags": []
   },
   "outputs": [],
   "source": [
    "x_train,x_test,y_train,y_test = train_test_split(x,y,test_size=0.2,random_state=42) # ajustamos la semilla a la misma que usamos al principio"
   ]
  },
  {
   "cell_type": "code",
   "execution_count": 35,
   "metadata": {
    "execution": {
     "iopub.execute_input": "2021-02-12T09:20:17.981716Z",
     "iopub.status.busy": "2021-02-12T09:20:17.976944Z",
     "iopub.status.idle": "2021-02-12T09:20:20.489629Z",
     "shell.execute_reply": "2021-02-12T09:20:20.488261Z"
    },
    "papermill": {
     "duration": 3.821661,
     "end_time": "2021-02-12T09:20:20.489829",
     "exception": false,
     "start_time": "2021-02-12T09:20:16.668168",
     "status": "completed"
    },
    "tags": []
   },
   "outputs": [
    {
     "name": "stdout",
     "output_type": "stream",
     "text": [
      "Downloading data from https://storage.googleapis.com/keras-applications/efficientnetb0_notop.h5\n",
      "16711680/16705208 [==============================] - 0s 0us/step\n"
     ]
    }
   ],
   "source": [
    "# Ahora sí pasaremos a la construcción del modelo y a su entrenamiento, \n",
    "# partamos impotrando EffNetB0\n",
    "from tensorflow.keras.applications import EfficientNetB0\n",
    "effnetb0 = EfficientNetB0(weights = \"imagenet\",include_top=False,input_shape=(IMG_SHAPE,IMG_SHAPE,3))"
   ]
  },
  {
   "cell_type": "code",
   "execution_count": 36,
   "metadata": {
    "execution": {
     "iopub.execute_input": "2021-02-12T09:20:23.169623Z",
     "iopub.status.busy": "2021-02-12T09:20:23.167892Z",
     "iopub.status.idle": "2021-02-12T09:20:23.203446Z",
     "shell.execute_reply": "2021-02-12T09:20:23.202620Z"
    },
    "papermill": {
     "duration": 1.382847,
     "end_time": "2021-02-12T09:20:23.203656",
     "exception": false,
     "start_time": "2021-02-12T09:20:21.820809",
     "status": "completed"
    },
    "tags": []
   },
   "outputs": [],
   "source": [
    "# Ahora vamos a definir nuestro modelo\n",
    "\n",
    "model = effnetb0.output\n",
    "model = layers.GlobalAveragePooling2D()(model)\n",
    "model = layers.Dropout(0.5)(model)\n",
    "model = layers.Dense(4,activation = \"softmax\")(model)\n",
    "\n",
    "model = keras.models.Model(inputs = effnetb0.input,outputs = model)"
   ]
  },
  {
   "cell_type": "code",
   "execution_count": 37,
   "metadata": {
    "execution": {
     "iopub.execute_input": "2021-02-12T09:20:25.895636Z",
     "iopub.status.busy": "2021-02-12T09:20:25.888117Z",
     "iopub.status.idle": "2021-02-12T09:20:25.959743Z",
     "shell.execute_reply": "2021-02-12T09:20:25.958618Z"
    },
    "papermill": {
     "duration": 1.385633,
     "end_time": "2021-02-12T09:20:25.959970",
     "exception": false,
     "start_time": "2021-02-12T09:20:24.574337",
     "status": "completed"
    },
    "tags": []
   },
   "outputs": [
    {
     "name": "stdout",
     "output_type": "stream",
     "text": [
      "Model: \"model\"\n",
      "__________________________________________________________________________________________________\n",
      "Layer (type)                    Output Shape         Param #     Connected to                     \n",
      "==================================================================================================\n",
      "input_1 (InputLayer)            [(None, 224, 224, 3) 0                                            \n",
      "__________________________________________________________________________________________________\n",
      "rescaling (Rescaling)           (None, 224, 224, 3)  0           input_1[0][0]                    \n",
      "__________________________________________________________________________________________________\n",
      "normalization (Normalization)   (None, 224, 224, 3)  7           rescaling[0][0]                  \n",
      "__________________________________________________________________________________________________\n",
      "stem_conv_pad (ZeroPadding2D)   (None, 225, 225, 3)  0           normalization[0][0]              \n",
      "__________________________________________________________________________________________________\n",
      "stem_conv (Conv2D)              (None, 112, 112, 32) 864         stem_conv_pad[0][0]              \n",
      "__________________________________________________________________________________________________\n",
      "stem_bn (BatchNormalization)    (None, 112, 112, 32) 128         stem_conv[0][0]                  \n",
      "__________________________________________________________________________________________________\n",
      "stem_activation (Activation)    (None, 112, 112, 32) 0           stem_bn[0][0]                    \n",
      "__________________________________________________________________________________________________\n",
      "block1a_dwconv (DepthwiseConv2D (None, 112, 112, 32) 288         stem_activation[0][0]            \n",
      "__________________________________________________________________________________________________\n",
      "block1a_bn (BatchNormalization) (None, 112, 112, 32) 128         block1a_dwconv[0][0]             \n",
      "__________________________________________________________________________________________________\n",
      "block1a_activation (Activation) (None, 112, 112, 32) 0           block1a_bn[0][0]                 \n",
      "__________________________________________________________________________________________________\n",
      "block1a_se_squeeze (GlobalAvera (None, 32)           0           block1a_activation[0][0]         \n",
      "__________________________________________________________________________________________________\n",
      "block1a_se_reshape (Reshape)    (None, 1, 1, 32)     0           block1a_se_squeeze[0][0]         \n",
      "__________________________________________________________________________________________________\n",
      "block1a_se_reduce (Conv2D)      (None, 1, 1, 8)      264         block1a_se_reshape[0][0]         \n",
      "__________________________________________________________________________________________________\n",
      "block1a_se_expand (Conv2D)      (None, 1, 1, 32)     288         block1a_se_reduce[0][0]          \n",
      "__________________________________________________________________________________________________\n",
      "block1a_se_excite (Multiply)    (None, 112, 112, 32) 0           block1a_activation[0][0]         \n",
      "                                                                 block1a_se_expand[0][0]          \n",
      "__________________________________________________________________________________________________\n",
      "block1a_project_conv (Conv2D)   (None, 112, 112, 16) 512         block1a_se_excite[0][0]          \n",
      "__________________________________________________________________________________________________\n",
      "block1a_project_bn (BatchNormal (None, 112, 112, 16) 64          block1a_project_conv[0][0]       \n",
      "__________________________________________________________________________________________________\n",
      "block2a_expand_conv (Conv2D)    (None, 112, 112, 96) 1536        block1a_project_bn[0][0]         \n",
      "__________________________________________________________________________________________________\n",
      "block2a_expand_bn (BatchNormali (None, 112, 112, 96) 384         block2a_expand_conv[0][0]        \n",
      "__________________________________________________________________________________________________\n",
      "block2a_expand_activation (Acti (None, 112, 112, 96) 0           block2a_expand_bn[0][0]          \n",
      "__________________________________________________________________________________________________\n",
      "block2a_dwconv_pad (ZeroPadding (None, 113, 113, 96) 0           block2a_expand_activation[0][0]  \n",
      "__________________________________________________________________________________________________\n",
      "block2a_dwconv (DepthwiseConv2D (None, 56, 56, 96)   864         block2a_dwconv_pad[0][0]         \n",
      "__________________________________________________________________________________________________\n",
      "block2a_bn (BatchNormalization) (None, 56, 56, 96)   384         block2a_dwconv[0][0]             \n",
      "__________________________________________________________________________________________________\n",
      "block2a_activation (Activation) (None, 56, 56, 96)   0           block2a_bn[0][0]                 \n",
      "__________________________________________________________________________________________________\n",
      "block2a_se_squeeze (GlobalAvera (None, 96)           0           block2a_activation[0][0]         \n",
      "__________________________________________________________________________________________________\n",
      "block2a_se_reshape (Reshape)    (None, 1, 1, 96)     0           block2a_se_squeeze[0][0]         \n",
      "__________________________________________________________________________________________________\n",
      "block2a_se_reduce (Conv2D)      (None, 1, 1, 4)      388         block2a_se_reshape[0][0]         \n",
      "__________________________________________________________________________________________________\n",
      "block2a_se_expand (Conv2D)      (None, 1, 1, 96)     480         block2a_se_reduce[0][0]          \n",
      "__________________________________________________________________________________________________\n",
      "block2a_se_excite (Multiply)    (None, 56, 56, 96)   0           block2a_activation[0][0]         \n",
      "                                                                 block2a_se_expand[0][0]          \n",
      "__________________________________________________________________________________________________\n",
      "block2a_project_conv (Conv2D)   (None, 56, 56, 24)   2304        block2a_se_excite[0][0]          \n",
      "__________________________________________________________________________________________________\n",
      "block2a_project_bn (BatchNormal (None, 56, 56, 24)   96          block2a_project_conv[0][0]       \n",
      "__________________________________________________________________________________________________\n",
      "block2b_expand_conv (Conv2D)    (None, 56, 56, 144)  3456        block2a_project_bn[0][0]         \n",
      "__________________________________________________________________________________________________\n",
      "block2b_expand_bn (BatchNormali (None, 56, 56, 144)  576         block2b_expand_conv[0][0]        \n",
      "__________________________________________________________________________________________________\n",
      "block2b_expand_activation (Acti (None, 56, 56, 144)  0           block2b_expand_bn[0][0]          \n",
      "__________________________________________________________________________________________________\n",
      "block2b_dwconv (DepthwiseConv2D (None, 56, 56, 144)  1296        block2b_expand_activation[0][0]  \n",
      "__________________________________________________________________________________________________\n",
      "block2b_bn (BatchNormalization) (None, 56, 56, 144)  576         block2b_dwconv[0][0]             \n",
      "__________________________________________________________________________________________________\n",
      "block2b_activation (Activation) (None, 56, 56, 144)  0           block2b_bn[0][0]                 \n",
      "__________________________________________________________________________________________________\n",
      "block2b_se_squeeze (GlobalAvera (None, 144)          0           block2b_activation[0][0]         \n",
      "__________________________________________________________________________________________________\n",
      "block2b_se_reshape (Reshape)    (None, 1, 1, 144)    0           block2b_se_squeeze[0][0]         \n",
      "__________________________________________________________________________________________________\n",
      "block2b_se_reduce (Conv2D)      (None, 1, 1, 6)      870         block2b_se_reshape[0][0]         \n",
      "__________________________________________________________________________________________________\n",
      "block2b_se_expand (Conv2D)      (None, 1, 1, 144)    1008        block2b_se_reduce[0][0]          \n",
      "__________________________________________________________________________________________________\n",
      "block2b_se_excite (Multiply)    (None, 56, 56, 144)  0           block2b_activation[0][0]         \n",
      "                                                                 block2b_se_expand[0][0]          \n",
      "__________________________________________________________________________________________________\n",
      "block2b_project_conv (Conv2D)   (None, 56, 56, 24)   3456        block2b_se_excite[0][0]          \n",
      "__________________________________________________________________________________________________\n",
      "block2b_project_bn (BatchNormal (None, 56, 56, 24)   96          block2b_project_conv[0][0]       \n",
      "__________________________________________________________________________________________________\n",
      "block2b_drop (Dropout)          (None, 56, 56, 24)   0           block2b_project_bn[0][0]         \n",
      "__________________________________________________________________________________________________\n",
      "block2b_add (Add)               (None, 56, 56, 24)   0           block2b_drop[0][0]               \n",
      "                                                                 block2a_project_bn[0][0]         \n",
      "__________________________________________________________________________________________________\n",
      "block3a_expand_conv (Conv2D)    (None, 56, 56, 144)  3456        block2b_add[0][0]                \n",
      "__________________________________________________________________________________________________\n",
      "block3a_expand_bn (BatchNormali (None, 56, 56, 144)  576         block3a_expand_conv[0][0]        \n",
      "__________________________________________________________________________________________________\n",
      "block3a_expand_activation (Acti (None, 56, 56, 144)  0           block3a_expand_bn[0][0]          \n",
      "__________________________________________________________________________________________________\n",
      "block3a_dwconv_pad (ZeroPadding (None, 59, 59, 144)  0           block3a_expand_activation[0][0]  \n",
      "__________________________________________________________________________________________________\n",
      "block3a_dwconv (DepthwiseConv2D (None, 28, 28, 144)  3600        block3a_dwconv_pad[0][0]         \n",
      "__________________________________________________________________________________________________\n",
      "block3a_bn (BatchNormalization) (None, 28, 28, 144)  576         block3a_dwconv[0][0]             \n",
      "__________________________________________________________________________________________________\n",
      "block3a_activation (Activation) (None, 28, 28, 144)  0           block3a_bn[0][0]                 \n",
      "__________________________________________________________________________________________________\n",
      "block3a_se_squeeze (GlobalAvera (None, 144)          0           block3a_activation[0][0]         \n",
      "__________________________________________________________________________________________________\n",
      "block3a_se_reshape (Reshape)    (None, 1, 1, 144)    0           block3a_se_squeeze[0][0]         \n",
      "__________________________________________________________________________________________________\n",
      "block3a_se_reduce (Conv2D)      (None, 1, 1, 6)      870         block3a_se_reshape[0][0]         \n",
      "__________________________________________________________________________________________________\n",
      "block3a_se_expand (Conv2D)      (None, 1, 1, 144)    1008        block3a_se_reduce[0][0]          \n",
      "__________________________________________________________________________________________________\n",
      "block3a_se_excite (Multiply)    (None, 28, 28, 144)  0           block3a_activation[0][0]         \n",
      "                                                                 block3a_se_expand[0][0]          \n",
      "__________________________________________________________________________________________________\n",
      "block3a_project_conv (Conv2D)   (None, 28, 28, 40)   5760        block3a_se_excite[0][0]          \n",
      "__________________________________________________________________________________________________\n",
      "block3a_project_bn (BatchNormal (None, 28, 28, 40)   160         block3a_project_conv[0][0]       \n",
      "__________________________________________________________________________________________________\n",
      "block3b_expand_conv (Conv2D)    (None, 28, 28, 240)  9600        block3a_project_bn[0][0]         \n",
      "__________________________________________________________________________________________________\n",
      "block3b_expand_bn (BatchNormali (None, 28, 28, 240)  960         block3b_expand_conv[0][0]        \n",
      "__________________________________________________________________________________________________\n",
      "block3b_expand_activation (Acti (None, 28, 28, 240)  0           block3b_expand_bn[0][0]          \n",
      "__________________________________________________________________________________________________\n",
      "block3b_dwconv (DepthwiseConv2D (None, 28, 28, 240)  6000        block3b_expand_activation[0][0]  \n",
      "__________________________________________________________________________________________________\n",
      "block3b_bn (BatchNormalization) (None, 28, 28, 240)  960         block3b_dwconv[0][0]             \n",
      "__________________________________________________________________________________________________\n",
      "block3b_activation (Activation) (None, 28, 28, 240)  0           block3b_bn[0][0]                 \n",
      "__________________________________________________________________________________________________\n",
      "block3b_se_squeeze (GlobalAvera (None, 240)          0           block3b_activation[0][0]         \n",
      "__________________________________________________________________________________________________\n",
      "block3b_se_reshape (Reshape)    (None, 1, 1, 240)    0           block3b_se_squeeze[0][0]         \n",
      "__________________________________________________________________________________________________\n",
      "block3b_se_reduce (Conv2D)      (None, 1, 1, 10)     2410        block3b_se_reshape[0][0]         \n",
      "__________________________________________________________________________________________________\n",
      "block3b_se_expand (Conv2D)      (None, 1, 1, 240)    2640        block3b_se_reduce[0][0]          \n",
      "__________________________________________________________________________________________________\n",
      "block3b_se_excite (Multiply)    (None, 28, 28, 240)  0           block3b_activation[0][0]         \n",
      "                                                                 block3b_se_expand[0][0]          \n",
      "__________________________________________________________________________________________________\n",
      "block3b_project_conv (Conv2D)   (None, 28, 28, 40)   9600        block3b_se_excite[0][0]          \n",
      "__________________________________________________________________________________________________\n",
      "block3b_project_bn (BatchNormal (None, 28, 28, 40)   160         block3b_project_conv[0][0]       \n",
      "__________________________________________________________________________________________________\n",
      "block3b_drop (Dropout)          (None, 28, 28, 40)   0           block3b_project_bn[0][0]         \n",
      "__________________________________________________________________________________________________\n",
      "block3b_add (Add)               (None, 28, 28, 40)   0           block3b_drop[0][0]               \n",
      "                                                                 block3a_project_bn[0][0]         \n",
      "__________________________________________________________________________________________________\n",
      "block4a_expand_conv (Conv2D)    (None, 28, 28, 240)  9600        block3b_add[0][0]                \n",
      "__________________________________________________________________________________________________\n",
      "block4a_expand_bn (BatchNormali (None, 28, 28, 240)  960         block4a_expand_conv[0][0]        \n",
      "__________________________________________________________________________________________________\n",
      "block4a_expand_activation (Acti (None, 28, 28, 240)  0           block4a_expand_bn[0][0]          \n",
      "__________________________________________________________________________________________________\n",
      "block4a_dwconv_pad (ZeroPadding (None, 29, 29, 240)  0           block4a_expand_activation[0][0]  \n",
      "__________________________________________________________________________________________________\n",
      "block4a_dwconv (DepthwiseConv2D (None, 14, 14, 240)  2160        block4a_dwconv_pad[0][0]         \n",
      "__________________________________________________________________________________________________\n",
      "block4a_bn (BatchNormalization) (None, 14, 14, 240)  960         block4a_dwconv[0][0]             \n",
      "__________________________________________________________________________________________________\n",
      "block4a_activation (Activation) (None, 14, 14, 240)  0           block4a_bn[0][0]                 \n",
      "__________________________________________________________________________________________________\n",
      "block4a_se_squeeze (GlobalAvera (None, 240)          0           block4a_activation[0][0]         \n",
      "__________________________________________________________________________________________________\n",
      "block4a_se_reshape (Reshape)    (None, 1, 1, 240)    0           block4a_se_squeeze[0][0]         \n",
      "__________________________________________________________________________________________________\n",
      "block4a_se_reduce (Conv2D)      (None, 1, 1, 10)     2410        block4a_se_reshape[0][0]         \n",
      "__________________________________________________________________________________________________\n",
      "block4a_se_expand (Conv2D)      (None, 1, 1, 240)    2640        block4a_se_reduce[0][0]          \n",
      "__________________________________________________________________________________________________\n",
      "block4a_se_excite (Multiply)    (None, 14, 14, 240)  0           block4a_activation[0][0]         \n",
      "                                                                 block4a_se_expand[0][0]          \n",
      "__________________________________________________________________________________________________\n",
      "block4a_project_conv (Conv2D)   (None, 14, 14, 80)   19200       block4a_se_excite[0][0]          \n",
      "__________________________________________________________________________________________________\n",
      "block4a_project_bn (BatchNormal (None, 14, 14, 80)   320         block4a_project_conv[0][0]       \n",
      "__________________________________________________________________________________________________\n",
      "block4b_expand_conv (Conv2D)    (None, 14, 14, 480)  38400       block4a_project_bn[0][0]         \n",
      "__________________________________________________________________________________________________\n",
      "block4b_expand_bn (BatchNormali (None, 14, 14, 480)  1920        block4b_expand_conv[0][0]        \n",
      "__________________________________________________________________________________________________\n",
      "block4b_expand_activation (Acti (None, 14, 14, 480)  0           block4b_expand_bn[0][0]          \n",
      "__________________________________________________________________________________________________\n",
      "block4b_dwconv (DepthwiseConv2D (None, 14, 14, 480)  4320        block4b_expand_activation[0][0]  \n",
      "__________________________________________________________________________________________________\n",
      "block4b_bn (BatchNormalization) (None, 14, 14, 480)  1920        block4b_dwconv[0][0]             \n",
      "__________________________________________________________________________________________________\n",
      "block4b_activation (Activation) (None, 14, 14, 480)  0           block4b_bn[0][0]                 \n",
      "__________________________________________________________________________________________________\n",
      "block4b_se_squeeze (GlobalAvera (None, 480)          0           block4b_activation[0][0]         \n",
      "__________________________________________________________________________________________________\n",
      "block4b_se_reshape (Reshape)    (None, 1, 1, 480)    0           block4b_se_squeeze[0][0]         \n",
      "__________________________________________________________________________________________________\n",
      "block4b_se_reduce (Conv2D)      (None, 1, 1, 20)     9620        block4b_se_reshape[0][0]         \n",
      "__________________________________________________________________________________________________\n",
      "block4b_se_expand (Conv2D)      (None, 1, 1, 480)    10080       block4b_se_reduce[0][0]          \n",
      "__________________________________________________________________________________________________\n",
      "block4b_se_excite (Multiply)    (None, 14, 14, 480)  0           block4b_activation[0][0]         \n",
      "                                                                 block4b_se_expand[0][0]          \n",
      "__________________________________________________________________________________________________\n",
      "block4b_project_conv (Conv2D)   (None, 14, 14, 80)   38400       block4b_se_excite[0][0]          \n",
      "__________________________________________________________________________________________________\n",
      "block4b_project_bn (BatchNormal (None, 14, 14, 80)   320         block4b_project_conv[0][0]       \n",
      "__________________________________________________________________________________________________\n",
      "block4b_drop (Dropout)          (None, 14, 14, 80)   0           block4b_project_bn[0][0]         \n",
      "__________________________________________________________________________________________________\n",
      "block4b_add (Add)               (None, 14, 14, 80)   0           block4b_drop[0][0]               \n",
      "                                                                 block4a_project_bn[0][0]         \n",
      "__________________________________________________________________________________________________\n",
      "block4c_expand_conv (Conv2D)    (None, 14, 14, 480)  38400       block4b_add[0][0]                \n",
      "__________________________________________________________________________________________________\n",
      "block4c_expand_bn (BatchNormali (None, 14, 14, 480)  1920        block4c_expand_conv[0][0]        \n",
      "__________________________________________________________________________________________________\n",
      "block4c_expand_activation (Acti (None, 14, 14, 480)  0           block4c_expand_bn[0][0]          \n",
      "__________________________________________________________________________________________________\n",
      "block4c_dwconv (DepthwiseConv2D (None, 14, 14, 480)  4320        block4c_expand_activation[0][0]  \n",
      "__________________________________________________________________________________________________\n",
      "block4c_bn (BatchNormalization) (None, 14, 14, 480)  1920        block4c_dwconv[0][0]             \n",
      "__________________________________________________________________________________________________\n",
      "block4c_activation (Activation) (None, 14, 14, 480)  0           block4c_bn[0][0]                 \n",
      "__________________________________________________________________________________________________\n",
      "block4c_se_squeeze (GlobalAvera (None, 480)          0           block4c_activation[0][0]         \n",
      "__________________________________________________________________________________________________\n",
      "block4c_se_reshape (Reshape)    (None, 1, 1, 480)    0           block4c_se_squeeze[0][0]         \n",
      "__________________________________________________________________________________________________\n",
      "block4c_se_reduce (Conv2D)      (None, 1, 1, 20)     9620        block4c_se_reshape[0][0]         \n",
      "__________________________________________________________________________________________________\n",
      "block4c_se_expand (Conv2D)      (None, 1, 1, 480)    10080       block4c_se_reduce[0][0]          \n",
      "__________________________________________________________________________________________________\n",
      "block4c_se_excite (Multiply)    (None, 14, 14, 480)  0           block4c_activation[0][0]         \n",
      "                                                                 block4c_se_expand[0][0]          \n",
      "__________________________________________________________________________________________________\n",
      "block4c_project_conv (Conv2D)   (None, 14, 14, 80)   38400       block4c_se_excite[0][0]          \n",
      "__________________________________________________________________________________________________\n",
      "block4c_project_bn (BatchNormal (None, 14, 14, 80)   320         block4c_project_conv[0][0]       \n",
      "__________________________________________________________________________________________________\n",
      "block4c_drop (Dropout)          (None, 14, 14, 80)   0           block4c_project_bn[0][0]         \n",
      "__________________________________________________________________________________________________\n",
      "block4c_add (Add)               (None, 14, 14, 80)   0           block4c_drop[0][0]               \n",
      "                                                                 block4b_add[0][0]                \n",
      "__________________________________________________________________________________________________\n",
      "block5a_expand_conv (Conv2D)    (None, 14, 14, 480)  38400       block4c_add[0][0]                \n",
      "__________________________________________________________________________________________________\n",
      "block5a_expand_bn (BatchNormali (None, 14, 14, 480)  1920        block5a_expand_conv[0][0]        \n",
      "__________________________________________________________________________________________________\n",
      "block5a_expand_activation (Acti (None, 14, 14, 480)  0           block5a_expand_bn[0][0]          \n",
      "__________________________________________________________________________________________________\n",
      "block5a_dwconv (DepthwiseConv2D (None, 14, 14, 480)  12000       block5a_expand_activation[0][0]  \n",
      "__________________________________________________________________________________________________\n",
      "block5a_bn (BatchNormalization) (None, 14, 14, 480)  1920        block5a_dwconv[0][0]             \n",
      "__________________________________________________________________________________________________\n",
      "block5a_activation (Activation) (None, 14, 14, 480)  0           block5a_bn[0][0]                 \n",
      "__________________________________________________________________________________________________\n",
      "block5a_se_squeeze (GlobalAvera (None, 480)          0           block5a_activation[0][0]         \n",
      "__________________________________________________________________________________________________\n",
      "block5a_se_reshape (Reshape)    (None, 1, 1, 480)    0           block5a_se_squeeze[0][0]         \n",
      "__________________________________________________________________________________________________\n",
      "block5a_se_reduce (Conv2D)      (None, 1, 1, 20)     9620        block5a_se_reshape[0][0]         \n",
      "__________________________________________________________________________________________________\n",
      "block5a_se_expand (Conv2D)      (None, 1, 1, 480)    10080       block5a_se_reduce[0][0]          \n",
      "__________________________________________________________________________________________________\n",
      "block5a_se_excite (Multiply)    (None, 14, 14, 480)  0           block5a_activation[0][0]         \n",
      "                                                                 block5a_se_expand[0][0]          \n",
      "__________________________________________________________________________________________________\n",
      "block5a_project_conv (Conv2D)   (None, 14, 14, 112)  53760       block5a_se_excite[0][0]          \n",
      "__________________________________________________________________________________________________\n",
      "block5a_project_bn (BatchNormal (None, 14, 14, 112)  448         block5a_project_conv[0][0]       \n",
      "__________________________________________________________________________________________________\n",
      "block5b_expand_conv (Conv2D)    (None, 14, 14, 672)  75264       block5a_project_bn[0][0]         \n",
      "__________________________________________________________________________________________________\n",
      "block5b_expand_bn (BatchNormali (None, 14, 14, 672)  2688        block5b_expand_conv[0][0]        \n",
      "__________________________________________________________________________________________________\n",
      "block5b_expand_activation (Acti (None, 14, 14, 672)  0           block5b_expand_bn[0][0]          \n",
      "__________________________________________________________________________________________________\n",
      "block5b_dwconv (DepthwiseConv2D (None, 14, 14, 672)  16800       block5b_expand_activation[0][0]  \n",
      "__________________________________________________________________________________________________\n",
      "block5b_bn (BatchNormalization) (None, 14, 14, 672)  2688        block5b_dwconv[0][0]             \n",
      "__________________________________________________________________________________________________\n",
      "block5b_activation (Activation) (None, 14, 14, 672)  0           block5b_bn[0][0]                 \n",
      "__________________________________________________________________________________________________\n",
      "block5b_se_squeeze (GlobalAvera (None, 672)          0           block5b_activation[0][0]         \n",
      "__________________________________________________________________________________________________\n",
      "block5b_se_reshape (Reshape)    (None, 1, 1, 672)    0           block5b_se_squeeze[0][0]         \n",
      "__________________________________________________________________________________________________\n",
      "block5b_se_reduce (Conv2D)      (None, 1, 1, 28)     18844       block5b_se_reshape[0][0]         \n",
      "__________________________________________________________________________________________________\n",
      "block5b_se_expand (Conv2D)      (None, 1, 1, 672)    19488       block5b_se_reduce[0][0]          \n",
      "__________________________________________________________________________________________________\n",
      "block5b_se_excite (Multiply)    (None, 14, 14, 672)  0           block5b_activation[0][0]         \n",
      "                                                                 block5b_se_expand[0][0]          \n",
      "__________________________________________________________________________________________________\n",
      "block5b_project_conv (Conv2D)   (None, 14, 14, 112)  75264       block5b_se_excite[0][0]          \n",
      "__________________________________________________________________________________________________\n",
      "block5b_project_bn (BatchNormal (None, 14, 14, 112)  448         block5b_project_conv[0][0]       \n",
      "__________________________________________________________________________________________________\n",
      "block5b_drop (Dropout)          (None, 14, 14, 112)  0           block5b_project_bn[0][0]         \n",
      "__________________________________________________________________________________________________\n",
      "block5b_add (Add)               (None, 14, 14, 112)  0           block5b_drop[0][0]               \n",
      "                                                                 block5a_project_bn[0][0]         \n",
      "__________________________________________________________________________________________________\n",
      "block5c_expand_conv (Conv2D)    (None, 14, 14, 672)  75264       block5b_add[0][0]                \n",
      "__________________________________________________________________________________________________\n",
      "block5c_expand_bn (BatchNormali (None, 14, 14, 672)  2688        block5c_expand_conv[0][0]        \n",
      "__________________________________________________________________________________________________\n",
      "block5c_expand_activation (Acti (None, 14, 14, 672)  0           block5c_expand_bn[0][0]          \n",
      "__________________________________________________________________________________________________\n",
      "block5c_dwconv (DepthwiseConv2D (None, 14, 14, 672)  16800       block5c_expand_activation[0][0]  \n",
      "__________________________________________________________________________________________________\n",
      "block5c_bn (BatchNormalization) (None, 14, 14, 672)  2688        block5c_dwconv[0][0]             \n",
      "__________________________________________________________________________________________________\n",
      "block5c_activation (Activation) (None, 14, 14, 672)  0           block5c_bn[0][0]                 \n",
      "__________________________________________________________________________________________________\n",
      "block5c_se_squeeze (GlobalAvera (None, 672)          0           block5c_activation[0][0]         \n",
      "__________________________________________________________________________________________________\n",
      "block5c_se_reshape (Reshape)    (None, 1, 1, 672)    0           block5c_se_squeeze[0][0]         \n",
      "__________________________________________________________________________________________________\n",
      "block5c_se_reduce (Conv2D)      (None, 1, 1, 28)     18844       block5c_se_reshape[0][0]         \n",
      "__________________________________________________________________________________________________\n",
      "block5c_se_expand (Conv2D)      (None, 1, 1, 672)    19488       block5c_se_reduce[0][0]          \n",
      "__________________________________________________________________________________________________\n",
      "block5c_se_excite (Multiply)    (None, 14, 14, 672)  0           block5c_activation[0][0]         \n",
      "                                                                 block5c_se_expand[0][0]          \n",
      "__________________________________________________________________________________________________\n",
      "block5c_project_conv (Conv2D)   (None, 14, 14, 112)  75264       block5c_se_excite[0][0]          \n",
      "__________________________________________________________________________________________________\n",
      "block5c_project_bn (BatchNormal (None, 14, 14, 112)  448         block5c_project_conv[0][0]       \n",
      "__________________________________________________________________________________________________\n",
      "block5c_drop (Dropout)          (None, 14, 14, 112)  0           block5c_project_bn[0][0]         \n",
      "__________________________________________________________________________________________________\n",
      "block5c_add (Add)               (None, 14, 14, 112)  0           block5c_drop[0][0]               \n",
      "                                                                 block5b_add[0][0]                \n",
      "__________________________________________________________________________________________________\n",
      "block6a_expand_conv (Conv2D)    (None, 14, 14, 672)  75264       block5c_add[0][0]                \n",
      "__________________________________________________________________________________________________\n",
      "block6a_expand_bn (BatchNormali (None, 14, 14, 672)  2688        block6a_expand_conv[0][0]        \n",
      "__________________________________________________________________________________________________\n",
      "block6a_expand_activation (Acti (None, 14, 14, 672)  0           block6a_expand_bn[0][0]          \n",
      "__________________________________________________________________________________________________\n",
      "block6a_dwconv_pad (ZeroPadding (None, 17, 17, 672)  0           block6a_expand_activation[0][0]  \n",
      "__________________________________________________________________________________________________\n",
      "block6a_dwconv (DepthwiseConv2D (None, 7, 7, 672)    16800       block6a_dwconv_pad[0][0]         \n",
      "__________________________________________________________________________________________________\n",
      "block6a_bn (BatchNormalization) (None, 7, 7, 672)    2688        block6a_dwconv[0][0]             \n",
      "__________________________________________________________________________________________________\n",
      "block6a_activation (Activation) (None, 7, 7, 672)    0           block6a_bn[0][0]                 \n",
      "__________________________________________________________________________________________________\n",
      "block6a_se_squeeze (GlobalAvera (None, 672)          0           block6a_activation[0][0]         \n",
      "__________________________________________________________________________________________________\n",
      "block6a_se_reshape (Reshape)    (None, 1, 1, 672)    0           block6a_se_squeeze[0][0]         \n",
      "__________________________________________________________________________________________________\n",
      "block6a_se_reduce (Conv2D)      (None, 1, 1, 28)     18844       block6a_se_reshape[0][0]         \n",
      "__________________________________________________________________________________________________\n",
      "block6a_se_expand (Conv2D)      (None, 1, 1, 672)    19488       block6a_se_reduce[0][0]          \n",
      "__________________________________________________________________________________________________\n",
      "block6a_se_excite (Multiply)    (None, 7, 7, 672)    0           block6a_activation[0][0]         \n",
      "                                                                 block6a_se_expand[0][0]          \n",
      "__________________________________________________________________________________________________\n",
      "block6a_project_conv (Conv2D)   (None, 7, 7, 192)    129024      block6a_se_excite[0][0]          \n",
      "__________________________________________________________________________________________________\n",
      "block6a_project_bn (BatchNormal (None, 7, 7, 192)    768         block6a_project_conv[0][0]       \n",
      "__________________________________________________________________________________________________\n",
      "block6b_expand_conv (Conv2D)    (None, 7, 7, 1152)   221184      block6a_project_bn[0][0]         \n",
      "__________________________________________________________________________________________________\n",
      "block6b_expand_bn (BatchNormali (None, 7, 7, 1152)   4608        block6b_expand_conv[0][0]        \n",
      "__________________________________________________________________________________________________\n",
      "block6b_expand_activation (Acti (None, 7, 7, 1152)   0           block6b_expand_bn[0][0]          \n",
      "__________________________________________________________________________________________________\n",
      "block6b_dwconv (DepthwiseConv2D (None, 7, 7, 1152)   28800       block6b_expand_activation[0][0]  \n",
      "__________________________________________________________________________________________________\n",
      "block6b_bn (BatchNormalization) (None, 7, 7, 1152)   4608        block6b_dwconv[0][0]             \n",
      "__________________________________________________________________________________________________\n",
      "block6b_activation (Activation) (None, 7, 7, 1152)   0           block6b_bn[0][0]                 \n",
      "__________________________________________________________________________________________________\n",
      "block6b_se_squeeze (GlobalAvera (None, 1152)         0           block6b_activation[0][0]         \n",
      "__________________________________________________________________________________________________\n",
      "block6b_se_reshape (Reshape)    (None, 1, 1, 1152)   0           block6b_se_squeeze[0][0]         \n",
      "__________________________________________________________________________________________________\n",
      "block6b_se_reduce (Conv2D)      (None, 1, 1, 48)     55344       block6b_se_reshape[0][0]         \n",
      "__________________________________________________________________________________________________\n",
      "block6b_se_expand (Conv2D)      (None, 1, 1, 1152)   56448       block6b_se_reduce[0][0]          \n",
      "__________________________________________________________________________________________________\n",
      "block6b_se_excite (Multiply)    (None, 7, 7, 1152)   0           block6b_activation[0][0]         \n",
      "                                                                 block6b_se_expand[0][0]          \n",
      "__________________________________________________________________________________________________\n",
      "block6b_project_conv (Conv2D)   (None, 7, 7, 192)    221184      block6b_se_excite[0][0]          \n",
      "__________________________________________________________________________________________________\n",
      "block6b_project_bn (BatchNormal (None, 7, 7, 192)    768         block6b_project_conv[0][0]       \n",
      "__________________________________________________________________________________________________\n",
      "block6b_drop (Dropout)          (None, 7, 7, 192)    0           block6b_project_bn[0][0]         \n",
      "__________________________________________________________________________________________________\n",
      "block6b_add (Add)               (None, 7, 7, 192)    0           block6b_drop[0][0]               \n",
      "                                                                 block6a_project_bn[0][0]         \n",
      "__________________________________________________________________________________________________\n",
      "block6c_expand_conv (Conv2D)    (None, 7, 7, 1152)   221184      block6b_add[0][0]                \n",
      "__________________________________________________________________________________________________\n",
      "block6c_expand_bn (BatchNormali (None, 7, 7, 1152)   4608        block6c_expand_conv[0][0]        \n",
      "__________________________________________________________________________________________________\n",
      "block6c_expand_activation (Acti (None, 7, 7, 1152)   0           block6c_expand_bn[0][0]          \n",
      "__________________________________________________________________________________________________\n",
      "block6c_dwconv (DepthwiseConv2D (None, 7, 7, 1152)   28800       block6c_expand_activation[0][0]  \n",
      "__________________________________________________________________________________________________\n",
      "block6c_bn (BatchNormalization) (None, 7, 7, 1152)   4608        block6c_dwconv[0][0]             \n",
      "__________________________________________________________________________________________________\n",
      "block6c_activation (Activation) (None, 7, 7, 1152)   0           block6c_bn[0][0]                 \n",
      "__________________________________________________________________________________________________\n",
      "block6c_se_squeeze (GlobalAvera (None, 1152)         0           block6c_activation[0][0]         \n",
      "__________________________________________________________________________________________________\n",
      "block6c_se_reshape (Reshape)    (None, 1, 1, 1152)   0           block6c_se_squeeze[0][0]         \n",
      "__________________________________________________________________________________________________\n",
      "block6c_se_reduce (Conv2D)      (None, 1, 1, 48)     55344       block6c_se_reshape[0][0]         \n",
      "__________________________________________________________________________________________________\n",
      "block6c_se_expand (Conv2D)      (None, 1, 1, 1152)   56448       block6c_se_reduce[0][0]          \n",
      "__________________________________________________________________________________________________\n",
      "block6c_se_excite (Multiply)    (None, 7, 7, 1152)   0           block6c_activation[0][0]         \n",
      "                                                                 block6c_se_expand[0][0]          \n",
      "__________________________________________________________________________________________________\n",
      "block6c_project_conv (Conv2D)   (None, 7, 7, 192)    221184      block6c_se_excite[0][0]          \n",
      "__________________________________________________________________________________________________\n",
      "block6c_project_bn (BatchNormal (None, 7, 7, 192)    768         block6c_project_conv[0][0]       \n",
      "__________________________________________________________________________________________________\n",
      "block6c_drop (Dropout)          (None, 7, 7, 192)    0           block6c_project_bn[0][0]         \n",
      "__________________________________________________________________________________________________\n",
      "block6c_add (Add)               (None, 7, 7, 192)    0           block6c_drop[0][0]               \n",
      "                                                                 block6b_add[0][0]                \n",
      "__________________________________________________________________________________________________\n",
      "block6d_expand_conv (Conv2D)    (None, 7, 7, 1152)   221184      block6c_add[0][0]                \n",
      "__________________________________________________________________________________________________\n",
      "block6d_expand_bn (BatchNormali (None, 7, 7, 1152)   4608        block6d_expand_conv[0][0]        \n",
      "__________________________________________________________________________________________________\n",
      "block6d_expand_activation (Acti (None, 7, 7, 1152)   0           block6d_expand_bn[0][0]          \n",
      "__________________________________________________________________________________________________\n",
      "block6d_dwconv (DepthwiseConv2D (None, 7, 7, 1152)   28800       block6d_expand_activation[0][0]  \n",
      "__________________________________________________________________________________________________\n",
      "block6d_bn (BatchNormalization) (None, 7, 7, 1152)   4608        block6d_dwconv[0][0]             \n",
      "__________________________________________________________________________________________________\n",
      "block6d_activation (Activation) (None, 7, 7, 1152)   0           block6d_bn[0][0]                 \n",
      "__________________________________________________________________________________________________\n",
      "block6d_se_squeeze (GlobalAvera (None, 1152)         0           block6d_activation[0][0]         \n",
      "__________________________________________________________________________________________________\n",
      "block6d_se_reshape (Reshape)    (None, 1, 1, 1152)   0           block6d_se_squeeze[0][0]         \n",
      "__________________________________________________________________________________________________\n",
      "block6d_se_reduce (Conv2D)      (None, 1, 1, 48)     55344       block6d_se_reshape[0][0]         \n",
      "__________________________________________________________________________________________________\n",
      "block6d_se_expand (Conv2D)      (None, 1, 1, 1152)   56448       block6d_se_reduce[0][0]          \n",
      "__________________________________________________________________________________________________\n",
      "block6d_se_excite (Multiply)    (None, 7, 7, 1152)   0           block6d_activation[0][0]         \n",
      "                                                                 block6d_se_expand[0][0]          \n",
      "__________________________________________________________________________________________________\n",
      "block6d_project_conv (Conv2D)   (None, 7, 7, 192)    221184      block6d_se_excite[0][0]          \n",
      "__________________________________________________________________________________________________\n",
      "block6d_project_bn (BatchNormal (None, 7, 7, 192)    768         block6d_project_conv[0][0]       \n",
      "__________________________________________________________________________________________________\n",
      "block6d_drop (Dropout)          (None, 7, 7, 192)    0           block6d_project_bn[0][0]         \n",
      "__________________________________________________________________________________________________\n",
      "block6d_add (Add)               (None, 7, 7, 192)    0           block6d_drop[0][0]               \n",
      "                                                                 block6c_add[0][0]                \n",
      "__________________________________________________________________________________________________\n",
      "block7a_expand_conv (Conv2D)    (None, 7, 7, 1152)   221184      block6d_add[0][0]                \n",
      "__________________________________________________________________________________________________\n",
      "block7a_expand_bn (BatchNormali (None, 7, 7, 1152)   4608        block7a_expand_conv[0][0]        \n",
      "__________________________________________________________________________________________________\n",
      "block7a_expand_activation (Acti (None, 7, 7, 1152)   0           block7a_expand_bn[0][0]          \n",
      "__________________________________________________________________________________________________\n",
      "block7a_dwconv (DepthwiseConv2D (None, 7, 7, 1152)   10368       block7a_expand_activation[0][0]  \n",
      "__________________________________________________________________________________________________\n",
      "block7a_bn (BatchNormalization) (None, 7, 7, 1152)   4608        block7a_dwconv[0][0]             \n",
      "__________________________________________________________________________________________________\n",
      "block7a_activation (Activation) (None, 7, 7, 1152)   0           block7a_bn[0][0]                 \n",
      "__________________________________________________________________________________________________\n",
      "block7a_se_squeeze (GlobalAvera (None, 1152)         0           block7a_activation[0][0]         \n",
      "__________________________________________________________________________________________________\n",
      "block7a_se_reshape (Reshape)    (None, 1, 1, 1152)   0           block7a_se_squeeze[0][0]         \n",
      "__________________________________________________________________________________________________\n",
      "block7a_se_reduce (Conv2D)      (None, 1, 1, 48)     55344       block7a_se_reshape[0][0]         \n",
      "__________________________________________________________________________________________________\n",
      "block7a_se_expand (Conv2D)      (None, 1, 1, 1152)   56448       block7a_se_reduce[0][0]          \n",
      "__________________________________________________________________________________________________\n",
      "block7a_se_excite (Multiply)    (None, 7, 7, 1152)   0           block7a_activation[0][0]         \n",
      "                                                                 block7a_se_expand[0][0]          \n",
      "__________________________________________________________________________________________________\n",
      "block7a_project_conv (Conv2D)   (None, 7, 7, 320)    368640      block7a_se_excite[0][0]          \n",
      "__________________________________________________________________________________________________\n",
      "block7a_project_bn (BatchNormal (None, 7, 7, 320)    1280        block7a_project_conv[0][0]       \n",
      "__________________________________________________________________________________________________\n",
      "top_conv (Conv2D)               (None, 7, 7, 1280)   409600      block7a_project_bn[0][0]         \n",
      "__________________________________________________________________________________________________\n",
      "top_bn (BatchNormalization)     (None, 7, 7, 1280)   5120        top_conv[0][0]                   \n",
      "__________________________________________________________________________________________________\n",
      "top_activation (Activation)     (None, 7, 7, 1280)   0           top_bn[0][0]                     \n",
      "__________________________________________________________________________________________________\n",
      "global_average_pooling2d (Globa (None, 1280)         0           top_activation[0][0]             \n",
      "__________________________________________________________________________________________________\n",
      "dropout_2 (Dropout)             (None, 1280)         0           global_average_pooling2d[0][0]   \n",
      "__________________________________________________________________________________________________\n",
      "dense_4 (Dense)                 (None, 4)            5124        dropout_2[0][0]                  \n",
      "==================================================================================================\n",
      "Total params: 4,054,695\n",
      "Trainable params: 4,012,672\n",
      "Non-trainable params: 42,023\n",
      "__________________________________________________________________________________________________\n"
     ]
    }
   ],
   "source": [
    "model.summary()"
   ]
  },
  {
   "cell_type": "code",
   "execution_count": 38,
   "metadata": {
    "execution": {
     "iopub.execute_input": "2021-02-12T09:20:28.970677Z",
     "iopub.status.busy": "2021-02-12T09:20:28.963799Z",
     "iopub.status.idle": "2021-02-12T09:20:28.977512Z",
     "shell.execute_reply": "2021-02-12T09:20:28.976954Z"
    },
    "papermill": {
     "duration": 1.550647,
     "end_time": "2021-02-12T09:20:28.977670",
     "exception": false,
     "start_time": "2021-02-12T09:20:27.427023",
     "status": "completed"
    },
    "tags": []
   },
   "outputs": [],
   "source": [
    "model.compile(\n",
    "    optimizer=tf.keras.optimizers.Adam(lr=0.0001),\n",
    "    loss='categorical_crossentropy',\n",
    "    metrics=['accuracy'],\n",
    ")"
   ]
  },
  {
   "cell_type": "code",
   "execution_count": 39,
   "metadata": {
    "execution": {
     "iopub.execute_input": "2021-02-12T09:20:31.838972Z",
     "iopub.status.busy": "2021-02-12T09:20:31.838101Z",
     "iopub.status.idle": "2021-02-12T09:20:31.841992Z",
     "shell.execute_reply": "2021-02-12T09:20:31.841359Z"
    },
    "papermill": {
     "duration": 1.328385,
     "end_time": "2021-02-12T09:20:31.842145",
     "exception": false,
     "start_time": "2021-02-12T09:20:30.513760",
     "status": "completed"
    },
    "tags": []
   },
   "outputs": [],
   "source": [
    "early_stopping = tf.keras.callbacks.EarlyStopping(\n",
    "    monitor = \"val_accurracy\", # let us hardcode the metric to be looking for\n",
    "    mode=\"auto\", # let tf to decide the minimun change var\n",
    "    patience=5, # Harcoding patiente\n",
    "    restore_best_weights=False, #this time we will no restore the model to best scenario\n",
    "    verbose=1, # We want to read the console print\n",
    ")\n",
    "\n",
    "checkPoint = tf.keras.callbacks.ModelCheckpoint(\n",
    "    filepath = \"model_effnetb7.h5\",\n",
    "    mode=\"auto\", # let tf to decide if save the model or not\n",
    "    monitor = \"val_accurracy\",\n",
    "    save_best_only=True,\n",
    "    verbose=1, # We want to read the console print\n",
    ")\n",
    "\n",
    "penalizeRule = tf.keras.callbacks.ReduceLROnPlateau(\n",
    "    mode=\"auto\", # let tf to decide the minimun change var\n",
    "    monitor = \"val_accurracy\",\n",
    "    factor = 0.3, # Penalize Factor for learning rate: if it's rearling too fast then reduce it\n",
    "    min_delta = 0.001, # Threshold to decide a new optimum\n",
    "    patience = 2, # Don't have memory beyond last 2 steps\n",
    "    verbose=1, # We want to read the console print\n",
    ")\n",
    "\n"
   ]
  },
  {
   "cell_type": "code",
   "execution_count": 40,
   "metadata": {
    "execution": {
     "iopub.execute_input": "2021-02-12T09:20:34.506482Z",
     "iopub.status.busy": "2021-02-12T09:20:34.505788Z",
     "iopub.status.idle": "2021-02-12T09:36:21.156980Z",
     "shell.execute_reply": "2021-02-12T09:36:21.156335Z"
    },
    "papermill": {
     "duration": 948.010127,
     "end_time": "2021-02-12T09:36:21.157155",
     "exception": false,
     "start_time": "2021-02-12T09:20:33.147028",
     "status": "completed"
    },
    "tags": []
   },
   "outputs": [
    {
     "name": "stdout",
     "output_type": "stream",
     "text": [
      "Epoch 1/50\n",
      "82/82 [==============================] - 31s 257ms/step - loss: 0.9855 - accuracy: 0.5919 - val_loss: 0.8659 - val_accuracy: 0.6187\n",
      "Epoch 2/50\n",
      "82/82 [==============================] - 19s 227ms/step - loss: 0.3350 - accuracy: 0.8927 - val_loss: 0.6152 - val_accuracy: 0.7289\n",
      "Epoch 3/50\n",
      "82/82 [==============================] - 19s 229ms/step - loss: 0.1808 - accuracy: 0.9420 - val_loss: 0.5225 - val_accuracy: 0.8132\n",
      "Epoch 4/50\n",
      "82/82 [==============================] - 19s 228ms/step - loss: 0.1035 - accuracy: 0.9689 - val_loss: 0.5600 - val_accuracy: 0.7902\n",
      "Epoch 5/50\n",
      "82/82 [==============================] - 19s 228ms/step - loss: 0.0709 - accuracy: 0.9816 - val_loss: 0.5263 - val_accuracy: 0.8116\n",
      "Epoch 6/50\n",
      "82/82 [==============================] - 19s 228ms/step - loss: 0.0585 - accuracy: 0.9859 - val_loss: 0.4564 - val_accuracy: 0.8331\n",
      "Epoch 7/50\n",
      "82/82 [==============================] - 19s 228ms/step - loss: 0.0302 - accuracy: 0.9922 - val_loss: 0.4773 - val_accuracy: 0.8224\n",
      "Epoch 8/50\n",
      "82/82 [==============================] - 19s 231ms/step - loss: 0.0258 - accuracy: 0.9953 - val_loss: 0.3679 - val_accuracy: 0.8683\n",
      "Epoch 9/50\n",
      "82/82 [==============================] - 19s 227ms/step - loss: 0.0285 - accuracy: 0.9915 - val_loss: 0.1624 - val_accuracy: 0.9510\n",
      "Epoch 10/50\n",
      "82/82 [==============================] - 19s 229ms/step - loss: 0.0165 - accuracy: 0.9969 - val_loss: 0.2081 - val_accuracy: 0.9326\n",
      "Epoch 11/50\n",
      "82/82 [==============================] - 19s 226ms/step - loss: 0.0189 - accuracy: 0.9954 - val_loss: 0.1319 - val_accuracy: 0.9587\n",
      "Epoch 12/50\n",
      "82/82 [==============================] - 19s 229ms/step - loss: 0.0146 - accuracy: 0.9963 - val_loss: 0.1037 - val_accuracy: 0.9678\n",
      "Epoch 13/50\n",
      "82/82 [==============================] - 19s 227ms/step - loss: 0.0098 - accuracy: 0.9982 - val_loss: 0.1044 - val_accuracy: 0.9740\n",
      "Epoch 14/50\n",
      "82/82 [==============================] - 19s 229ms/step - loss: 0.0158 - accuracy: 0.9949 - val_loss: 0.1053 - val_accuracy: 0.9801\n",
      "Epoch 15/50\n",
      "82/82 [==============================] - 19s 229ms/step - loss: 0.0111 - accuracy: 0.9974 - val_loss: 0.1191 - val_accuracy: 0.9740\n",
      "Epoch 16/50\n",
      "82/82 [==============================] - 19s 227ms/step - loss: 0.0081 - accuracy: 0.9987 - val_loss: 0.1204 - val_accuracy: 0.9786\n",
      "Epoch 17/50\n",
      "82/82 [==============================] - 19s 228ms/step - loss: 0.0095 - accuracy: 0.9980 - val_loss: 0.1157 - val_accuracy: 0.9755\n",
      "Epoch 18/50\n",
      "82/82 [==============================] - 19s 226ms/step - loss: 0.0076 - accuracy: 0.9988 - val_loss: 0.1100 - val_accuracy: 0.9770\n",
      "Epoch 19/50\n",
      "82/82 [==============================] - 19s 228ms/step - loss: 0.0052 - accuracy: 0.9996 - val_loss: 0.1010 - val_accuracy: 0.9786\n",
      "Epoch 20/50\n",
      "82/82 [==============================] - 19s 227ms/step - loss: 0.0066 - accuracy: 0.9987 - val_loss: 0.1073 - val_accuracy: 0.9801\n",
      "Epoch 21/50\n",
      "82/82 [==============================] - 19s 228ms/step - loss: 0.0041 - accuracy: 0.9997 - val_loss: 0.1170 - val_accuracy: 0.9786\n",
      "Epoch 22/50\n",
      "82/82 [==============================] - 19s 228ms/step - loss: 0.0077 - accuracy: 0.9985 - val_loss: 0.1018 - val_accuracy: 0.9832\n",
      "Epoch 23/50\n",
      "82/82 [==============================] - 19s 229ms/step - loss: 0.0049 - accuracy: 0.9996 - val_loss: 0.1064 - val_accuracy: 0.9786\n",
      "Epoch 24/50\n",
      "82/82 [==============================] - 19s 230ms/step - loss: 0.0036 - accuracy: 0.9990 - val_loss: 0.1153 - val_accuracy: 0.9786\n",
      "Epoch 25/50\n",
      "82/82 [==============================] - 19s 227ms/step - loss: 0.0074 - accuracy: 0.9986 - val_loss: 0.1267 - val_accuracy: 0.9755\n",
      "Epoch 26/50\n",
      "82/82 [==============================] - 19s 228ms/step - loss: 0.0040 - accuracy: 0.9994 - val_loss: 0.1216 - val_accuracy: 0.9755\n",
      "Epoch 27/50\n",
      "82/82 [==============================] - 19s 227ms/step - loss: 0.0040 - accuracy: 0.9991 - val_loss: 0.1343 - val_accuracy: 0.9755\n",
      "Epoch 28/50\n",
      "82/82 [==============================] - 19s 229ms/step - loss: 0.0085 - accuracy: 0.9969 - val_loss: 0.1130 - val_accuracy: 0.9801\n",
      "Epoch 29/50\n",
      "82/82 [==============================] - 19s 229ms/step - loss: 0.0156 - accuracy: 0.9972 - val_loss: 0.1311 - val_accuracy: 0.9678\n",
      "Epoch 30/50\n",
      "82/82 [==============================] - 19s 227ms/step - loss: 0.0091 - accuracy: 0.9958 - val_loss: 0.1332 - val_accuracy: 0.9755\n",
      "Epoch 31/50\n",
      "82/82 [==============================] - 19s 229ms/step - loss: 0.0096 - accuracy: 0.9966 - val_loss: 0.1316 - val_accuracy: 0.9801\n",
      "Epoch 32/50\n",
      "82/82 [==============================] - 19s 227ms/step - loss: 0.0051 - accuracy: 0.9973 - val_loss: 0.1253 - val_accuracy: 0.9786\n",
      "Epoch 33/50\n",
      "82/82 [==============================] - 19s 228ms/step - loss: 0.0042 - accuracy: 0.9975 - val_loss: 0.1208 - val_accuracy: 0.9816\n",
      "Epoch 34/50\n",
      "82/82 [==============================] - 19s 228ms/step - loss: 0.0040 - accuracy: 0.9981 - val_loss: 0.1143 - val_accuracy: 0.9770\n",
      "Epoch 35/50\n",
      "82/82 [==============================] - 19s 227ms/step - loss: 0.0167 - accuracy: 0.9970 - val_loss: 0.0951 - val_accuracy: 0.9755\n",
      "Epoch 36/50\n",
      "82/82 [==============================] - 18s 226ms/step - loss: 0.0081 - accuracy: 0.9983 - val_loss: 0.0939 - val_accuracy: 0.9724\n",
      "Epoch 37/50\n",
      "82/82 [==============================] - 19s 227ms/step - loss: 0.0060 - accuracy: 0.9978 - val_loss: 0.1039 - val_accuracy: 0.9816\n",
      "Epoch 38/50\n",
      "82/82 [==============================] - 19s 229ms/step - loss: 0.0061 - accuracy: 0.9972 - val_loss: 0.1773 - val_accuracy: 0.9709\n",
      "Epoch 39/50\n",
      "82/82 [==============================] - 19s 228ms/step - loss: 0.0032 - accuracy: 0.9994 - val_loss: 0.1359 - val_accuracy: 0.9832\n",
      "Epoch 40/50\n",
      "82/82 [==============================] - 19s 229ms/step - loss: 0.0142 - accuracy: 0.9946 - val_loss: 0.1598 - val_accuracy: 0.9648\n",
      "Epoch 41/50\n",
      "82/82 [==============================] - 19s 228ms/step - loss: 0.0073 - accuracy: 0.9975 - val_loss: 0.1269 - val_accuracy: 0.9801\n",
      "Epoch 42/50\n",
      "82/82 [==============================] - 19s 227ms/step - loss: 0.0086 - accuracy: 0.9959 - val_loss: 0.1597 - val_accuracy: 0.9740\n",
      "Epoch 43/50\n",
      "82/82 [==============================] - 19s 228ms/step - loss: 0.0042 - accuracy: 0.9987 - val_loss: 0.1764 - val_accuracy: 0.9709\n",
      "Epoch 44/50\n",
      "82/82 [==============================] - 19s 229ms/step - loss: 0.0046 - accuracy: 0.9974 - val_loss: 0.1420 - val_accuracy: 0.9709\n",
      "Epoch 45/50\n",
      "82/82 [==============================] - 19s 228ms/step - loss: 0.0027 - accuracy: 0.9994 - val_loss: 0.1398 - val_accuracy: 0.9770\n",
      "Epoch 46/50\n",
      "82/82 [==============================] - 19s 227ms/step - loss: 0.0074 - accuracy: 0.9951 - val_loss: 0.1394 - val_accuracy: 0.9724\n",
      "Epoch 47/50\n",
      "82/82 [==============================] - 19s 229ms/step - loss: 0.0039 - accuracy: 0.9991 - val_loss: 0.1520 - val_accuracy: 0.9755\n",
      "Epoch 48/50\n",
      "82/82 [==============================] - 19s 229ms/step - loss: 0.0034 - accuracy: 0.9996 - val_loss: 0.1080 - val_accuracy: 0.9786\n",
      "Epoch 49/50\n",
      "82/82 [==============================] - 19s 228ms/step - loss: 0.0015 - accuracy: 1.0000 - val_loss: 0.1180 - val_accuracy: 0.9816\n",
      "Epoch 50/50\n",
      "82/82 [==============================] - 19s 227ms/step - loss: 9.1017e-04 - accuracy: 1.0000 - val_loss: 0.1221 - val_accuracy: 0.9816\n"
     ]
    }
   ],
   "source": [
    "history_effnetb0 = model.fit(\n",
    "    x_train,\n",
    "    y_train,\n",
    "    validation_data=(x_test,y_test),\n",
    "    epochs=50,\n",
    "    callbacks=[early_stopping,checkPoint,penalizeRule],\n",
    "    verbose=1\n",
    ")"
   ]
  },
  {
   "cell_type": "code",
   "execution_count": 41,
   "metadata": {
    "execution": {
     "iopub.execute_input": "2021-02-12T09:36:27.635590Z",
     "iopub.status.busy": "2021-02-12T09:36:27.634777Z",
     "iopub.status.idle": "2021-02-12T09:36:27.640478Z",
     "shell.execute_reply": "2021-02-12T09:36:27.639913Z"
    },
    "papermill": {
     "duration": 3.609672,
     "end_time": "2021-02-12T09:36:27.640655",
     "exception": false,
     "start_time": "2021-02-12T09:36:24.030983",
     "status": "completed"
    },
    "tags": []
   },
   "outputs": [
    {
     "ename": "NameError",
     "evalue": "name 'history_effnetb7' is not defined",
     "output_type": "error",
     "traceback": [
      "\u001b[0;31m---------------------------------------------------------------------------\u001b[0m",
      "\u001b[0;31mNameError\u001b[0m                                 Traceback (most recent call last)",
      "\u001b[0;32m<ipython-input-41-e20e17609c6f>\u001b[0m in \u001b[0;36m<module>\u001b[0;34m\u001b[0m\n\u001b[0;32m----> 1\u001b[0;31m \u001b[0mhistory_effnetb0_df\u001b[0m \u001b[0;34m=\u001b[0m \u001b[0mpd\u001b[0m\u001b[0;34m.\u001b[0m\u001b[0mDataFrame\u001b[0m\u001b[0;34m(\u001b[0m\u001b[0mhistory_effnetb7\u001b[0m\u001b[0;34m.\u001b[0m\u001b[0mhistory\u001b[0m\u001b[0;34m)\u001b[0m\u001b[0;34m\u001b[0m\u001b[0;34m\u001b[0m\u001b[0m\n\u001b[0m\u001b[1;32m      2\u001b[0m \u001b[0;34m\u001b[0m\u001b[0m\n\u001b[1;32m      3\u001b[0m \u001b[0mfig\u001b[0m\u001b[0;34m,\u001b[0m\u001b[0max\u001b[0m \u001b[0;34m=\u001b[0m \u001b[0mplt\u001b[0m\u001b[0;34m.\u001b[0m\u001b[0msubplots\u001b[0m\u001b[0;34m(\u001b[0m\u001b[0;36m1\u001b[0m\u001b[0;34m,\u001b[0m\u001b[0;36m2\u001b[0m\u001b[0;34m,\u001b[0m\u001b[0mdpi\u001b[0m\u001b[0;34m=\u001b[0m\u001b[0;36m120\u001b[0m\u001b[0;34m,\u001b[0m\u001b[0mfigsize\u001b[0m\u001b[0;34m=\u001b[0m\u001b[0;34m(\u001b[0m\u001b[0;36m15\u001b[0m\u001b[0;34m,\u001b[0m\u001b[0;36m5\u001b[0m\u001b[0;34m)\u001b[0m\u001b[0;34m)\u001b[0m\u001b[0;34m\u001b[0m\u001b[0;34m\u001b[0m\u001b[0m\n\u001b[1;32m      4\u001b[0m \u001b[0;34m\u001b[0m\u001b[0m\n\u001b[1;32m      5\u001b[0m \u001b[0max\u001b[0m\u001b[0;34m[\u001b[0m\u001b[0;36m0\u001b[0m\u001b[0;34m]\u001b[0m\u001b[0;34m.\u001b[0m\u001b[0mplot\u001b[0m\u001b[0;34m(\u001b[0m\u001b[0mhistory_effnetb0_df\u001b[0m\u001b[0;34m[\u001b[0m\u001b[0;34m\"accuracy\"\u001b[0m\u001b[0;34m]\u001b[0m\u001b[0;34m,\u001b[0m\u001b[0mcolor\u001b[0m \u001b[0;34m=\u001b[0m \u001b[0;34m\"blue\"\u001b[0m\u001b[0;34m,\u001b[0m\u001b[0mlabel\u001b[0m\u001b[0;34m=\u001b[0m\u001b[0;34m'train'\u001b[0m\u001b[0;34m)\u001b[0m\u001b[0;34m\u001b[0m\u001b[0;34m\u001b[0m\u001b[0m\n",
      "\u001b[0;31mNameError\u001b[0m: name 'history_effnetb7' is not defined"
     ]
    }
   ],
   "source": [
    "history_effnetb0_df = pd.DataFrame(history_effnetb7.history)\n",
    "\n",
    "fig,ax = plt.subplots(1,2,dpi=120,figsize=(15,5))\n",
    "\n",
    "ax[0].plot(history_effnetb0_df[\"accuracy\"],color = \"blue\",label='train')\n",
    "ax[0].plot(history_effnetb0_df[\"val_accuracy\"],color = \"green\",label='test')\n",
    "ax[0].set_title(\"Accuracy for Training and Test data\")\n",
    "ax[0].set_ylabel(\"Accuracy\")\n",
    "ax[0].set_xlabel(\"Epochs\")\n",
    "ax[0].legend()\n",
    "\n",
    "\n",
    "ax[1].plot(history_effnetb0_df[\"loss\"],color = \"blue\",label='train')\n",
    "ax[1].plot(history_effnetb0_df[\"val_loss\"],color = \"green\",label='test')\n",
    "ax[1].set_title(\"Categorical Crossentropy (loss) for Training and Test data\")\n",
    "ax[1].set_ylabel(\"Categorical Crossentropy\")\n",
    "ax[1].set_xlabel(\"Epochs\")\n",
    "ax[1].legend()\n",
    "\n",
    "\n",
    "plt.show()"
   ]
  },
  {
   "cell_type": "code",
   "execution_count": 42,
   "metadata": {
    "execution": {
     "iopub.execute_input": "2021-02-12T09:36:33.324762Z",
     "iopub.status.busy": "2021-02-12T09:36:33.323989Z",
     "iopub.status.idle": "2021-02-12T09:37:16.887668Z",
     "shell.execute_reply": "2021-02-12T09:37:16.888334Z"
    },
    "papermill": {
     "duration": 46.405642,
     "end_time": "2021-02-12T09:37:16.888530",
     "exception": false,
     "start_time": "2021-02-12T09:36:30.482888",
     "status": "completed"
    },
    "tags": []
   },
   "outputs": [
    {
     "ename": "NameError",
     "evalue": "name 'history_effnetb7_df' is not defined",
     "output_type": "error",
     "traceback": [
      "\u001b[0;31m---------------------------------------------------------------------------\u001b[0m",
      "\u001b[0;31mNameError\u001b[0m                                 Traceback (most recent call last)",
      "\u001b[0;32m<ipython-input-42-2f0f08ad9c52>\u001b[0m in \u001b[0;36m<module>\u001b[0;34m\u001b[0m\n\u001b[1;32m      5\u001b[0m \u001b[0mmodel\u001b[0m\u001b[0;34m.\u001b[0m\u001b[0msave\u001b[0m\u001b[0;34m(\u001b[0m\u001b[0;34m'saved_model/model_effnetb0'\u001b[0m\u001b[0;34m)\u001b[0m\u001b[0;34m\u001b[0m\u001b[0;34m\u001b[0m\u001b[0m\n\u001b[1;32m      6\u001b[0m \u001b[0;34m\u001b[0m\u001b[0m\n\u001b[0;32m----> 7\u001b[0;31m \u001b[0mhistory_effnetb7_df\u001b[0m\u001b[0;34m.\u001b[0m\u001b[0mto_csv\u001b[0m\u001b[0;34m(\u001b[0m\u001b[0;34m'EffNetB7_History_Accurracy.csv'\u001b[0m\u001b[0;34m)\u001b[0m\u001b[0;34m\u001b[0m\u001b[0;34m\u001b[0m\u001b[0m\n\u001b[0m",
      "\u001b[0;31mNameError\u001b[0m: name 'history_effnetb7_df' is not defined"
     ]
    }
   ],
   "source": [
    "# Acá guardamos el model y el historial de entrenamiento por Epoch\n",
    "if not 'saved_model' in os.listdir('.'):\n",
    "    !mkdir -p saved_model\n",
    "    \n",
    "model.save('saved_model/model_effnetb0')\n",
    "\n",
    "history_effnetb7_df.to_csv('EffNetB7_History_Accurracy.csv')"
   ]
  },
  {
   "cell_type": "code",
   "execution_count": 43,
   "metadata": {
    "execution": {
     "iopub.execute_input": "2021-02-12T09:37:22.962985Z",
     "iopub.status.busy": "2021-02-12T09:37:22.961800Z",
     "iopub.status.idle": "2021-02-12T09:37:23.933798Z",
     "shell.execute_reply": "2021-02-12T09:37:23.934580Z"
    },
    "papermill": {
     "duration": 4.181918,
     "end_time": "2021-02-12T09:37:23.934807",
     "exception": false,
     "start_time": "2021-02-12T09:37:19.752889",
     "status": "completed"
    },
    "tags": []
   },
   "outputs": [
    {
     "name": "stdout",
     "output_type": "stream",
     "text": [
      "21/21 [==============================] - 1s 39ms/step - loss: 0.1221 - accuracy: 0.9816\n",
      "Validation Loss: 0.1220903992652893\n",
      "Validation Accuracy: 0.9816232919692993\n"
     ]
    }
   ],
   "source": [
    "# Aquí vamosa probar el modelo con la data de test total\n",
    "val_loss,val_acc = model.evaluate(x_test,y_test)\n",
    "print(f\"Validation Loss: {val_loss}\")\n",
    "print(f\"Validation Accuracy: {val_acc}\")"
   ]
  },
  {
   "cell_type": "code",
   "execution_count": 44,
   "metadata": {
    "execution": {
     "iopub.execute_input": "2021-02-12T09:37:29.821841Z",
     "iopub.status.busy": "2021-02-12T09:37:29.820723Z",
     "iopub.status.idle": "2021-02-12T09:37:32.687742Z",
     "shell.execute_reply": "2021-02-12T09:37:32.686730Z"
    },
    "papermill": {
     "duration": 5.791144,
     "end_time": "2021-02-12T09:37:32.687963",
     "exception": false,
     "start_time": "2021-02-12T09:37:26.896819",
     "status": "completed"
    },
    "tags": []
   },
   "outputs": [
    {
     "name": "stdout",
     "output_type": "stream",
     "text": [
      "[0 1 2 3] [165 206 104 178]\n",
      "[0 1 2 3] [167 203 104 179]\n"
     ]
    }
   ],
   "source": [
    "#Ahora veamos que tan bien o mal lo hizo respecto a los datos\n",
    "y_pred = model.predict(x_test)\n",
    "y_pred = np.argmax(y_pred,axis=1)\n",
    "\n",
    "y_test_label = np.argmax(y_test,axis=1)\n",
    "\n",
    "unique,counts = np.unique(y_pred,return_counts=True)\n",
    "print(unique,counts)\n",
    "\n",
    "unique,counts = np.unique(y_test_label,return_counts=True)\n",
    "print(unique,counts)"
   ]
  },
  {
   "cell_type": "code",
   "execution_count": 45,
   "metadata": {
    "execution": {
     "iopub.execute_input": "2021-02-12T09:37:38.672890Z",
     "iopub.status.busy": "2021-02-12T09:37:38.671847Z",
     "iopub.status.idle": "2021-02-12T09:37:38.681803Z",
     "shell.execute_reply": "2021-02-12T09:37:38.681117Z"
    },
    "papermill": {
     "duration": 2.851333,
     "end_time": "2021-02-12T09:37:38.681967",
     "exception": false,
     "start_time": "2021-02-12T09:37:35.830634",
     "status": "completed"
    },
    "tags": []
   },
   "outputs": [
    {
     "name": "stdout",
     "output_type": "stream",
     "text": [
      "              precision    recall  f1-score   support\n",
      "\n",
      "           0       0.99      0.98      0.98       167\n",
      "           1       0.97      0.99      0.98       203\n",
      "           2       0.98      0.98      0.98       104\n",
      "           3       0.99      0.98      0.99       179\n",
      "\n",
      "    accuracy                           0.98       653\n",
      "   macro avg       0.98      0.98      0.98       653\n",
      "weighted avg       0.98      0.98      0.98       653\n",
      "\n"
     ]
    }
   ],
   "source": [
    "# Vamos a sacar un reporte de clasificación usando como\n",
    "# KPIs: presicion, recall, f1-score y support\n",
    "classificationReport = classification_report(y_true=y_test_label,y_pred=y_pred)\n",
    "print(classificationReport)"
   ]
  },
  {
   "cell_type": "code",
   "execution_count": 46,
   "metadata": {
    "execution": {
     "iopub.execute_input": "2021-02-12T09:37:44.749948Z",
     "iopub.status.busy": "2021-02-12T09:37:44.743496Z",
     "iopub.status.idle": "2021-02-12T09:37:45.021880Z",
     "shell.execute_reply": "2021-02-12T09:37:45.021259Z"
    },
    "papermill": {
     "duration": 3.471063,
     "end_time": "2021-02-12T09:37:45.022027",
     "exception": false,
     "start_time": "2021-02-12T09:37:41.550964",
     "status": "completed"
    },
    "tags": []
   },
   "outputs": [
    {
     "data": {
      "image/png": "[encoded data removed]",
      "text/plain": [
       "<Figure size 840x960 with 1 Axes>"
      ]
     },
     "metadata": {},
     "output_type": "display_data"
    }
   ],
   "source": [
    "fig,ax = plt.subplots(1,1,dpi=120,figsize=(7,8))\n",
    "confMatrix = confusion_matrix(y_true=y_test_label,y_pred=y_pred)\n",
    "plot_confusion_matrix(conf_mat = confMatrix,class_names = [yDict[i] for i in range(4)],show_normed=True,axis=ax)\n",
    "plt.show()"
   ]
  },
  {
   "cell_type": "markdown",
   "metadata": {
    "papermill": {
     "duration": 2.873064,
     "end_time": "2021-02-12T09:37:50.770508",
     "exception": false,
     "start_time": "2021-02-12T09:37:47.897444",
     "status": "completed"
    },
    "tags": []
   },
   "source": [
    "# References\n",
    "\n",
    "[1] K. He, X. Zhang, S. Ren and J. Sun, \"Deep Residual Learning for Image Recognition,\" 2016 IEEE Conference on Computer Vision and Pattern Recognition (CVPR), Las Vegas, NV, 2016, pp. 770-778, doi: 10.1109/CVPR.2016.90."
   ]
  }
 ],
 "metadata": {
  "kernelspec": {
   "display_name": "Python 3",
   "language": "python",
   "name": "python3"
  },
  "language_info": {
   "codemirror_mode": {
    "name": "ipython",
    "version": 3
   },
   "file_extension": ".py",
   "mimetype": "text/x-python",
   "name": "python",
   "nbconvert_exporter": "python",
   "pygments_lexer": "ipython3",
   "version": "3.7.3"
  },
  "papermill": {
   "default_parameters": {},
   "duration": 1970.353911,
   "end_time": "2021-02-12T09:37:57.907852",
   "environment_variables": {},
   "exception": null,
   "input_path": "__notebook__.ipynb",
   "output_path": "__notebook__.ipynb",
   "parameters": {},
   "start_time": "2021-02-12T09:05:07.553941",
   "version": "2.2.2"
  }
 },
 "nbformat": 4,
 "nbformat_minor": 4
}
